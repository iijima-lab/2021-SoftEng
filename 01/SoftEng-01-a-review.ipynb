{
 "cells": [
  {
   "cell_type": "markdown",
   "id": "5b129c54",
   "metadata": {},
   "source": [
    "# ソフトウェア工学 (Software Engineering) \n",
    "# 第01回-a: 復習 (Review)　飯島 正\n",
    "  * (C) 2020, 2021 IIJIMA, Tadashi (iijima-lab)\n",
    "  * SoftEng-ex-01-a-review.ipynb\n",
    "    * <span style=\"color: red; \">図を表示する</span>には，ipynbファイルと同じフォルダに，<span style=\"color: red; \">figフォルダ</span>を置いてください\n",
    "    * Google Colabの場合"
   ]
  },
  {
   "cell_type": "markdown",
   "id": "15ff00af",
   "metadata": {},
   "source": [
    "<img src=\"fig/01/a-review/01-a-overview.png\" width=\"400\" height=\"150\" alt=\"01-a-概要\">"
   ]
  },
  {
   "cell_type": "markdown",
   "id": "9619314c",
   "metadata": {},
   "source": [
    "### 目次\n",
    "\n",
    "  * ソフトウェア工学-(Software-Engineering)\n",
    "    * 第01回-a: 復習 (Review)\n",
    "\n",
    "      * [0] <a href=\"#[0]-はじめに\"> はじめに </a>\n",
    "      * [1] <a href=\"#[1]-復習:-制御構造(Control_Structure)\"> 復習: 制御構造(Control_Structure) </a>\n",
    "        * [1-a] <a href=\"#[1-a]-条件分岐-(if文)\"> 条件分岐 (if文) </a>\n",
    "        * [1-b] <a href=\"#[1-b]-反復/ループ-(for文)\"> 反復/ループ (for文) </a>\n",
    "        * [1-c] <a href=\"#[1-c]-反復/ループ-(while文)\"> 反復/ループ (while文) </a>\n",
    "      * [2] <a href=\"#[2]-復習:-入出力-(I/O;-input/output)-→-パターン-06\"> 復習: 入出力 (I/O; input/output) → パターン-06 </a>\n",
    "        * [2-a] <a href=\"#[2-a]-input関数\"> input関数 </a>\n",
    "      * [3] <a href=\"#[3]-復習:-データ構造-(data-structure)-/-コンテナ(container)\"> 復習: データ構造 (data structure) / コンテナ(container) </a>\n",
    "        * [3-a] <a href=\"#[3-a]-リストの要素の列挙-(list_enumeration)→-パターン-07\"> リストの要素の列挙 (list_enumeration)→ パターン-07 </a>\n",
    "        * [3-b] <a href=\"#[3-b]-リストの内包表記-(list_comprehension)→-パターン-08\"> リストの内包表記 (list_comprehension)→ パターン-08 </a>\n",
    "    * [4] <a href=\"#[4]-復習:-関数-(function)→-パターン-09/10\"> 復習: 関数 (function)→ パターン-09/10 </a>\n",
    "    * <a href=\"#[5]-まとめ\"> [5] まとめ </a>\n",
    "        * <a href=\"#[5-a]-復習の内容\"> 復習の内容 </a>\n",
    "        * <a href=\"#[5-b]-例題一覧\"> 例題一覧 </a>\n",
    "        * <a href=\"#[5-c]-練習問題一覧\"> 練習問題一覧 </a>"
   ]
  },
  {
   "cell_type": "markdown",
   "id": "ed3414d0",
   "metadata": {},
   "source": [
    "### [0] はじめに\n",
    "(<a href=\"#目次\"> 目次に戻る </a>)"
   ]
  },
  {
   "cell_type": "markdown",
   "id": "661716d2",
   "metadata": {},
   "source": [
    "##### 履修者情報 (<span style=\"color: red; \">ダウンロードした各履修者ご自身が書き込んでください</span>)\n",
    "\n",
    "  * <span style=\"color: red; \">通し番号</span>:   (未定: 履修申告が一通り完了してから,お知らせします)\n",
    "  * <span style=\"color: red; \">学籍番号</span>:   (書き込んでください)\n",
    "  * <span style=\"color: red; \">氏名(漢字)</span>: (書き込んでください) \n",
    "  * <span style=\"color: red; \">氏名(ローマ字)</span>: "
   ]
  },
  {
   "cell_type": "markdown",
   "id": "7b55556a",
   "metadata": {},
   "source": [
    "#### このipynbファイルの使い方\n",
    "\n",
    "  * (1) 上のセルに，<span style=\"color: red; \">履修者情報</span>を書き込んで，各自，保存して下さい\n",
    "    * <span style=\"color: red; \">通し番号</span>は，未だ決まっていないので，現時点では，仮に 000 としておいて下さい\n",
    "    * <span style=\"color: red; \">学籍番号</span>を，半角文字で書き込んでください\n",
    "    * <span style=\"color: red; \">氏名(漢字)</span>を，漢字で書き込んでください(姓名の間に空白を挟まずに連結して下さい)\n",
    "    * <span style=\"color: red; \">氏名(ローマ字)</span>を，半角大文字で書き込んでください．(姓名の間にハイフンを挟んで，姓→名の順に連結して下さい)\n",
    "  * (2) <span style=\"color: red; \">ファイル名</span>を，通し番号，学籍番号と氏名(ローマ字)を含むように変更してください\n",
    "    * <span style=\"color: red; \">01-a-{通し番号}-{学籍番号}-{氏名(ローマ字)}.ipynb</span>としてください\n",
    "      * 例えば，通し番号が001，学籍番号が9999999，氏名(ローマ字)がIIJIMA-TADASHIなら，\n",
    "      * <span style=\"color: red; \">01-a-001-9999999-IIJIMA-TADASHI.ipynb</span>\n",
    "    * (3) <span style=\"color: red; \">練習問題の計算セル</span>に解答を書き込んで実行してください\n",
    "  * (4) <span style=\"color: red; \">即日提出課題(Quiz-wsd:within-same-day)</span>として提出して下さい\n",
    "    * 図版(fig)フォルダは共通なので提出の必要はありません，<span style=\"color: red; \">ipynbファイルのみ</span>提出してください\n",
    "      * こちらでは，figフォルダを置いてあるフォルダに，履修者の皆さんのipynbファイルを置いて，内容確認します\n",
    "    * ※ 次回までに提出していただく<span style=\"color: red; \">課題(Quiz-wow:within-one-week)</span>は別途出題します"
   ]
  },
  {
   "cell_type": "markdown",
   "id": "f0f2922f",
   "metadata": {},
   "source": [
    "#### このipynbファイルの狙い (1): オンライン授業環境の観点から\n",
    "\n",
    "  * <span style=\"color: red; \">オンライン授業</span>が増えているので...\n",
    "    * 配布される資料や，履修者の皆さんが作成するファイルが大量になってきています\n",
    "      * プレゼンテーションPDF\n",
    "      * プレゼンテーション動画\n",
    "      * 例題プログラムのソースファイル\n",
    "      * 練習問題のソースファイル\n",
    "      * 課題のソースファイル\n",
    "    * となると，<span style=\"color: red; \">PCの画面がごちゃごちゃ</span>になってきますね\n",
    "      * 流石に，スマートフォンで実習をする人はいないと思いますが，\n",
    "      * それでも<span style=\"color: red; \">画面が小さいノートPC</span>を使っている人もいますよね\n",
    "        * <span style=\"color: red; \">ipynb</span>なら，1画面に収まるか，せいぜい2画面程度の<span style=\"color: red; \">セル(計算セル，マークダウンセル)</span>に分割できます\n",
    "        * 外付けディスプレイを増設しないと中々，縦長画面も使えませんしね\n",
    "    * そこで，できるだけ1ファイルで授業を進められるようにしたかった，というのが狙いの一つです"
   ]
  },
  {
   "cell_type": "markdown",
   "id": "20fd7ebd",
   "metadata": {},
   "source": [
    "#### このipynbファイルの狙い (2): プログラミング教育の観点から\n",
    "\n",
    "  * <span style=\"color: red; \">プログラミング教育</span>の観点から\n",
    "    * <span style=\"color: red; \">例題</span>のプログラムを実際に動かして，動作を確認することは，きわめて重要です\n",
    "      * でも，そのたびに，エディタを起動して，例題プログラムをタイピングして，保存して，実行するという作業は，ちょっと大変です．\n",
    "        * 一度，億劫に感じると，試さないで，やりすごしてしまう習慣が定着してしまうかもしれません．\n",
    "        * もっとも<span style=\"color: red; \">統合開発環境IDE(Integrated Development Environment)</span>を使えば，これらのデメリットは感じないでしょう\n",
    "    * <span style=\"color: red; \">練習問題</span>も，解説のすぐ下くらいに計算セルがあると，解説を参照しながら，実行して試しやすいですよね"
   ]
  },
  {
   "cell_type": "markdown",
   "id": "f48a5c4a",
   "metadata": {},
   "source": [
    "#### このipynbファイルの狙い (3): プログラミング環境の観点から-(a)\n",
    "\n",
    "* <span style=\"color: red; \">プログラミング環境</span>の観点から-(a)\n",
    "    * オンライン授業開始当時，以前，前提科目のプログラミング言語で<span style=\"color: red; \">Google Colab</span>の利用を奨めたのは，実は私なのですが...\n",
    "      * その結果，自分のPCにプログラミング環境を整備しない人が出てきています\n",
    "        * 元々，こうした実習の授業は，<span style=\"color: red; \">ITCのワークステーション室</span>を使っていたのですが\n",
    "          * 皆さんのお手元のPCのOSは，最近だとwindows:mac:linux=2:1:0くらいの比率でバラついています\n",
    "          * そのため，使える環境も多岐にわたっていて，環境設定も煩雑になりがちです\n",
    "          \n",
    "    * そんなこともあり，<span style=\"color: red; \">ipynbファイルを前提に，むしろ，プレゼンテーションの内容をipynbファイルにもりこんでしまう</span>ことを計画しました"
   ]
  },
  {
   "cell_type": "markdown",
   "id": "1d6e5bf1",
   "metadata": {},
   "source": [
    "#### このipynbファイルの狙い (3): プログラミング環境の観点から-(b)\n",
    "\n",
    "  * プログラミング環境の観点から-(b)\n",
    "    * でも，正直言って，<span style=\"color: red; \">自前のPCに，Pythonのプログラミング環境を整備する方がお奨め</span>です\n",
    "      * 卒論・修論などで，いつまでも，ipynbファイルに収まるプログラムで進めていくのは，難しくなってきます\n",
    "        * どっちにしろ，1～2画面程度の計算セルに収まる程度の関数では，できることが限られてきます\n",
    "        * プロジェクトによっては，プログラムを複数のファイルに分割しないと管理しきれないということも起こってくるでしょう\n",
    "      * お奨めの開発環境(言語処理系と統合開発環境)は，以下で..."
   ]
  },
  {
   "cell_type": "markdown",
   "id": "f39c6830",
   "metadata": {},
   "source": [
    "#### [言語処理系] お奨めの開発環境\n",
    "\n",
    "  * お奨めの開発環境は...\n",
    "    * <span style=\"color: red; \">言語処理系</span>\n",
    "      * <span style=\"color: red; \">Anaconda</span>\n",
    "        * データサイエンスや科学技術計算関連のモジュールを最初からたくさん同梱している，お手軽なディストリビューションです\n",
    "        * <span style=\"color: red; \">Jupyter NotebookやJupyterLab</span>も使えますから，ネットワークにつながなくても，自分のPCで，ipynbファイルを編集したり実行したりできます\n",
    "        * そのかわり，インストールに時間がかかったり，必要なディスク容量が大きめです\n",
    "          * 実際には，人によっては使わないパッケージ（モジュール)もインストールされてしまいます\n",
    "          * 同梱されるPythonの言語処理系は，後述のPSF配布の版よりも，少し古い版であることが多いでしょう\n",
    "      * <span style=\"color: red; \">Miniconda</span>\n",
    "        * Anacondaが，便利な代わりに肥大化してしまっているので，\n",
    "        * 最小限のパッケージ（モジュール)に限定して配布しているものです\n",
    "      * <span style=\"color: red; \">PSFのPython</span>\n",
    "        * PSF(Python Software Foundation; パイソン・ソフトウェア財団)\n",
    "        * 言語処理系の公式的な参照実装である，Python(CPython)は，ここから，提供されます\n",
    "          * なので， <span style=\"color: red; \">常に最新版がダウンロードできます</span>"
   ]
  },
  {
   "cell_type": "markdown",
   "id": "d8ecd6cf",
   "metadata": {},
   "source": [
    "#### [統合開発環境(IDE)] お奨めの開発環境\n",
    "\n",
    "  * <span style=\"color: red; \">統合開発環境 (IDE: Integrated Development Environment)</span>\n",
    "    * <span style=\"color: red; \">VS Code</span>\n",
    "      * 動作が軽快で，豊富な拡張機能で，機能を拡張できます\n",
    "      * 実は，<span style=\"color: red; \">VSコードのエディタの中で，Jupyter Notebookも使えます</span>\n",
    "      * 現時点で，一押しです\n",
    "    * <span style=\"color: red; \">IDLE</span>\n",
    "      * Pythonに同梱されていて，すぐに使えます\n",
    "      * シンプルですし，授業の例題や小さな課題の開発には十分です\n",
    "        * ただ，プログラムのファイルサイズや複数ファイルで構成されるプロジェクトに取り組むには，ちょっと力不足を感じるかもしれません．\n",
    "        * ですが，実のところ，興味深いことに，とても優秀なプログラマの中には，むしろサポート機能が貧弱なエディタを好んで使う人もいます\n",
    "          * 私は，1ファイルで完結するプロジェクト(授業や研究室の教育的な側面の強い輪講の時など)では，画面が広く取れるので，よく使います\n",
    "              \n",
    "    * その他のIDE\n",
    "      * IDEは，開発が活発かどうかが使いやすさの向上に大きく影響するので，流行り廃りの影響を受けやすいところがあります\n",
    "      * ここ10年くらいのPythonを前提としたIDEの流行/人気の変遷は...\n",
    "        * もちろん，使う人の好みや経験，用途によるので，一概には言えませんが，\n",
    "          * 私は以下のように感じています (異論がある人も多いとおもいますが）\n",
    "            * (アンケートでもよいので何らかのデータがあると良いのですが)\n",
    "            * Spyder → Submarine Text → Atom → VS Code\n",
    "              * Spyder以外は，汎用エディタですが，Python向けの拡張機能があり，支援機能は十分です\n",
    "              * Spyderは，R(言語)を使っていた人が，Rstudioに似ているから馴染みがあったようです\n",
    "                * 私は，Matlabに似ているという印象でしたが\n",
    "              * かなり大きな画面のPCを使っている人以外は使いにくいかもしれませんね\n",
    "              * 変数インスペクタ/変数エクスプローラーの機能は，VS codeなどでも拡張機能で導入できます(データビューアー)"
   ]
  },
  {
   "cell_type": "markdown",
   "id": "b4d2c1df",
   "metadata": {},
   "source": [
    "### 履修にあたって\n",
    "\n",
    "  * 今回は，一応，前提科目の範囲で，(Python言語での入門的なプログラミングを)復習します\n",
    "    * 前提科目が未履修であっても...\n",
    "      * もちろん，範囲の内容(入門レベルのスキルセット)を既に理解しているのであれば，この授業を履修していただいて，支障なく参加できるかと思います\n",
    "        * きっと，この授業で取り上げる範囲(初級レベルのスキルセット)も独学や，中学高校などでの部活動，オンラインコースで勉強している人も，いますよね...\n",
    "        * でも，「とりあえず，こう書いておけば，使えるよ」といった実戦的な知識は持っていても，「なぜ，このように書けば，使えるのか」が曖昧になってしまうこともよくあります．\n",
    "          * そういうものは，しばしば<span style=\"color: red; \">「おまじない」と呼ばれます\n",
    "            * ですが，最初っから厳密なことに拘ると先に進まなくなってしまうので，それは，決して悪いことではありません．\n",
    "            * でも，<span style=\"color: red; \">プログラミングは，ロジックではあっても，マジックではありません． \n",
    "          * その辺りを，少しずつ，解消して，補っていければ...ということも目的のうちです\n",
    "      * とはいっても\n",
    "        * 現時点で，前提科目を履修していなかったり，その範囲の内容に関して，ちょっと自信がなくても...\n",
    "          * まずは，今回の「復習」内容が理解できそう\n",
    "          * (少なくともヒントがあれば)実習に取り組めそう，ということなら，何とかなると思います"
   ]
  },
  {
   "cell_type": "markdown",
   "id": "2b8700c4",
   "metadata": {},
   "source": [
    "### この科目の目的\n",
    "\n",
    "* この科目は，「プログラミング言語」の知識を身に着けることを目的としているというよりも...\n",
    "    * <span style=\"color: red; \">研究室に配属されてから，卒業研究や修論研究等を進めるうえで，使えるソフトウェア開発のスキルを身に着ける</span>ことを目的としています．\n",
    "      * そのため...\n",
    "        * ソフトウェアを開発するにあたり，どういうことから取り掛かって，どんな観点でアプローチをしていくととよさそうか?\n",
    "        * 「やりたい」と思っていることを，プログラムに落とし込むためには，どういう考え方をするとよさそうか?\n",
    "        * 仮に今，流行りの<span style=\"color: red; \">AI技術(機械学習技術)</span>や<span style=\"color: red; \">データサイエンス技術</span>などを試しに使ってみるだけなら...\n",
    "          * 既に優れた<span style=\"color: red; \">フレームワーク</span>が作られていて，\n",
    "            * 自分で作らなくても使えるものも多くありますし，\n",
    "            * 使い方に関しての丁寧な解説もたくさんありますが...\n",
    "          * でも，本格的に取り組むなら，どうしても自分で作らなくてはならない部分は，残ります．\n",
    "            * 当然ですが，自分の工夫や発想を組み入れるには，自分で作らねばなりません\n",
    "          * フレームワークで使うためのデータのハンドリングや，結果の可視化も自分の目的に合わせて，プログラミングできなければならない要素です．\n",
    "          "
   ]
  },
  {
   "cell_type": "markdown",
   "id": "26bc7f65",
   "metadata": {},
   "source": [
    "### 「ソフトウェア工学」と「プログラミング・スキル」\n",
    "\n",
    "  * <span style=\"color: red; \">「ソフトウェア工学」</span>と<span style=\"color: red; \">「プログラミング・スキル」</span>\n",
    "    * 本来，「ソフトウェア工学」</span>という分野では，より一般的で幅広く，より規模の大きい「ソフトウェア開発」に関連する技術を取り扱っています\n",
    "      * <span style=\"color: red; \">要求(Requirements)の分析</span>，<span style=\"color: red; \">ソフトウェアとしての設計</span>，<span style=\"color: red; \">モデリング</span>，<span style=\"color: red; \">検証</span>，<span style=\"color: red; \">テスティング</span>などに関して，多くの知見が蓄積されています．\n",
    "      * ですが，それらを理解するためには，半期の前提科目の範囲のプログラミング知識とスキルでは少々不足していて，理解し活用することは，少し荷が重いものとなります\n",
    "      * そこで，抽象的な理論や，方法論よりも，更にプログラミングのスキルをつけながら，そうした「ソフトウェア工学」の知見のごく一端だけでも触れていただくことを目的とします．"
   ]
  },
  {
   "cell_type": "markdown",
   "id": "c20839e5",
   "metadata": {},
   "source": [
    "----\n",
    "### [1] 復習: 制御構造(Control_Structure)\n",
    "(<a href=\"#目次\"> 目次に戻る </a>)\n",
    "\n",
    "  * <span style=\"color: red; \">構造化プログラミング (structured programming)</span>\n",
    "    * <span style=\"color: red; \">手続き的(procedural)プログラミング</span>と呼ばれる，一般によく使われているタイプのプログラミング言語では...\n",
    "      * <span style=\"color: red; \">(ブロック中の文の)逐次実行〈連接〉, 〈条件分岐〉，〈反復/ループ〉</span>といった<span style=\"color: red; \">制御構文</span>をもとに，構造的にプログラミングを記述するものが多くあります\n",
    "    * プログラムの構造が明解で，<span style=\"color: red; \">トップダウン</span>に扱うことができるため，比較的，\n",
    "      * <span style=\"color: red; \">読みやすく(理解しやすく）</span>，<span style=\"color: red; \">書きやすい</span>ものとなりえます"
   ]
  },
  {
   "cell_type": "markdown",
   "id": "551b146c",
   "metadata": {},
   "source": [
    "----\n",
    "### [1-a] 条件分岐 (if文)\n",
    "(<a href=\"#目次\"> 目次に戻る </a>)"
   ]
  },
  {
   "cell_type": "markdown",
   "id": "c9fc9daf",
   "metadata": {},
   "source": [
    "#### → 参考リンク: if文\n",
    "\n",
    "  * チュートリアル: [if文](https://docs.python.org/ja/3/tutorial/controlflow.html#if-statements)\n",
    "  * ドキュメント: [if文](https://docs.python.org/ja/3/reference/compound_stmts.html#the-if-statement)"
   ]
  },
  {
   "cell_type": "markdown",
   "id": "17acee31",
   "metadata": {},
   "source": [
    "### Ex_01: if分岐 (if_selection) → パターン-01\n",
    "\n",
    "  * <span style=\"color: red; \">〈条件式〉</span>を評価して<span style=\"color: red; \">〈真〉(True)のとき</span>だけ，\n",
    "    * 〈if-ブロック〉を実行する\n",
    "  * 評価結果が<span style=\"color: red; \">〈偽〉(False)のとき</span>は，\n",
    "    * 何もしない\n",
    "  "
   ]
  },
  {
   "cell_type": "markdown",
   "id": "60e117fb",
   "metadata": {},
   "source": [
    "<img src=\"fig/01/a-review/02-a-pattern-01-if.png\" width=\"200\" height=\"100\"  alt=\"02-a-パターン-01-if \">　"
   ]
  },
  {
   "cell_type": "markdown",
   "id": "d02330fb",
   "metadata": {},
   "source": [
    "<img src=\"fig/01/a-review/02-b-pattern-01-flow-if.png\" width=\"120\" height=\"150\" alt=\"02-b-パターン-01-flow-if\">"
   ]
  },
  {
   "cell_type": "markdown",
   "id": "287bc7ed",
   "metadata": {},
   "source": [
    "  * ブロック</span>は，字下げ(indentation)</span>で範囲を指定する\n",
    "    * 字下げは，空白文字(半角空白かTab)\n",
    "      * 半角空白4文字を推奨</span>\n",
    "        * 間違えて，全角空白が混入すると発見しにくいので注意\n",
    "      * Tab文字を1つというのもありだが...あまり推奨しない\n",
    "        * 1回押せば字下げできるので速く打てるが，Tabの表示幅はアプリケーションの設定によって異なるので，意外と不便\n",
    "        * エディタの支援機能で，前の行に基づいて自動字下げするエディタも多いので，このメリットは小さい\n",
    "        * インデントの仕方は統一する\n",
    "          * 半角空白列と，Tab文字の両方を混在させてはいけない\n",
    "          * この混在も，発見しにくいので注意"
   ]
  },
  {
   "cell_type": "markdown",
   "id": "603dcf18",
   "metadata": {},
   "source": [
    "  * <span style=\"color: red; \">代入</span>\n",
    "    * =は，代入．右辺の数式の評価結果を，左辺の変数に代入する\n",
    "  * <span style=\"color: red; \">比較演算子</span>\n",
    "    * <は，大小比較\n",
    "      * 他の大小比較としては，<, <=, >, >=\n",
    "    * <span style=\"color: red; \">等号</span>は==, <span style=\"color: red; \">不等号</span>は!=\n",
    "  * <span style=\"color: red; \">\\# 以降</span>は，<span style=\"color: red; \">コメント(注釈)</span>であり，実行されない"
   ]
  },
  {
   "cell_type": "markdown",
   "id": "43d2a5c1",
   "metadata": {},
   "source": [
    "#### 例題(Example)-01: [if文]  整数の大小比較\n",
    "\n",
    "  * 変数xと変数yに代入された整数の大小比較\n",
    "    * xがyより小さいときには，\n",
    "      * その旨を表示してください \n",
    "    * さもなくば\n",
    "      * 何もしない"
   ]
  },
  {
   "cell_type": "code",
   "execution_count": 1,
   "id": "9a951111",
   "metadata": {},
   "outputs": [
    {
     "name": "stdout",
     "output_type": "stream",
     "text": [
      "xはyより小さい\n"
     ]
    }
   ],
   "source": [
    "# ===== [例題-01: if文] 変数xと変数yに代入された整数の大小比較 =====\n",
    "#   * xがyより小さいときには，その旨を表示してください \n",
    "\n",
    "x = 3\n",
    "y = 5\n",
    "if x < y:\n",
    "    print( \"xはyより小さい\" )"
   ]
  },
  {
   "cell_type": "markdown",
   "id": "b742a0a5",
   "metadata": {},
   "source": [
    "----\n",
    "### Ex_02: if_else分岐 (if_else_selection) → パターン-02`\n",
    "\n",
    "  * <span style=\"color: red; \">〈条件式〉</span>を評価して<span style=\"color: red; \">〈真〉(True)のとき</span>は，\n",
    "    * 〈if-ブロック〉を実行する\n",
    "  * 評価結果が<span style=\"color: red; \">〈偽〉(False)のとき</span>は，\n",
    "    * 〈else-ブロック〉(ブロック2)を実行する"
   ]
  },
  {
   "cell_type": "markdown",
   "id": "34f67664",
   "metadata": {},
   "source": [
    "<img src=\"fig/01/a-review/04-a-pattern-02-if_else.png\" width=\"200\" height=\"100\" alt=\"04-a-パターン-02-if_else\">"
   ]
  },
  {
   "cell_type": "markdown",
   "id": "9955069a",
   "metadata": {},
   "source": [
    "<img src=\"fig/01/a-review/04-b-pattern-02-flow-if_else.png\" width=\"200\" height=\"150\" alt=\"04-b-パターン-02-flow-if_else\">"
   ]
  },
  {
   "cell_type": "markdown",
   "id": "9e85b0d4",
   "metadata": {},
   "source": [
    "  * <span style=\"color: red; \">%</span>は<span style=\"color: red; \">剰余演算子</span>\n",
    "    * a % bは，aをbで割った余り\n",
    "      * 2で割った余りがゼロ(2で割り切れる)なら，偶数 "
   ]
  },
  {
   "cell_type": "markdown",
   "id": "59a5c7b6",
   "metadata": {},
   "source": [
    "#### 例題(Example)-02: [if-else文] 変数xに代入した整数の偶奇判定\n",
    "\n",
    "  * xに3を代入してから，xの値の偶奇判定結果を表示する\n",
    "    * 2で割った余りがゼロ(2で割り切れる)なら，偶数"
   ]
  },
  {
   "cell_type": "code",
   "execution_count": 2,
   "id": "401a32f7",
   "metadata": {},
   "outputs": [
    {
     "name": "stdout",
     "output_type": "stream",
     "text": [
      "xは奇数\n"
     ]
    }
   ],
   "source": [
    "# ===== [例題-02: for文] 変数xに代入した整数の偶奇判定 =====\n",
    "# * xに3を代入してから，xの値の偶奇判定結果を表示する\n",
    "#   * 2で割った余りがゼロ(2で割り切れる)なら，偶数\n",
    "    \n",
    "x = 3\n",
    "\n",
    "if x % 2 == 0:\n",
    "    print( \"xは偶数\" )\n",
    "else:\n",
    "    print( \"xは奇数\" )"
   ]
  },
  {
   "cell_type": "markdown",
   "id": "03d4b12d",
   "metadata": {},
   "source": [
    "#### 練習問題(Practice)-01: [if-else文] 3の倍数判定\n",
    "\n",
    " * (1) xという変数に，好きな100未満の正の整数を代入してください\n",
    " * (2) その変数が，3の倍数なら\"fizz\"，さもなくば，その整数をそのまま，表示してください"
   ]
  },
  {
   "cell_type": "code",
   "execution_count": 3,
   "id": "e71c8260",
   "metadata": {},
   "outputs": [
    {
     "name": "stdout",
     "output_type": "stream",
     "text": [
      "fizz\n"
     ]
    }
   ],
   "source": [
    "# ===== [練習問題-01: if-else文] 3の倍数判定 =====\n",
    "#  * (1) xという変数に，好きな100未満の正の整数を代入してください\n",
    "#  * (2)その変数が，3の倍数なら\"fizz\"，さもなくば，その整数をそのまま，表示してください\n",
    "\n",
    "# ----- (1) -----\n",
    "x = 33\n",
    "# ----- (2) -----\n",
    "if x % 3 == 0:\n",
    "    print( \"fizz\" )\n",
    "else:\n",
    "    print( x )"
   ]
  },
  {
   "cell_type": "markdown",
   "id": "cc8c3a6b",
   "metadata": {},
   "source": [
    "----\n",
    "### Ex_03: if_elif_else分岐 (if_elif_else_selection) → パターン-03\n",
    "\n",
    "  * <span style=\"color: red; \">〈条件式-1〉</span>を評価して<span style=\"color: red; \">〈真〉(True)のとき</span>は，\n",
    "    * 〈ブロック-1〉を実行する\n",
    "  * <span style=\"color: red; \">さもなくば</span>，\n",
    "    * <span style=\"color: red; \">〈条件式-2〉</span>を評価して<span style=\"color: red; \">〈真〉(True)のとき</span>は，\n",
    "      * 〈ブロック-2〉を実行する\n",
    "    * <span style=\"color: red; \">さもなくば</span>，\n",
    "      * <span style=\"color: red; \">〈条件式-3〉</span>を評価して<span style=\"color: red; \">〈真〉(True)のとき</span>は，\n",
    "        * 〈ブロック-3〉を実行する\n",
    "      * <span style=\"color: red; \">さもなくば</span>，\n",
    "        * 〈ブロック-4〉を実行する"
   ]
  },
  {
   "cell_type": "markdown",
   "id": "d752bcd1",
   "metadata": {},
   "source": [
    "<img src=\"fig/01/a-review/06-a-pattern-03-if_elif_else.png\" width=\"200\" height=\"100\" alt=\"06-a-パターン-03-if_elif_else\">"
   ]
  },
  {
   "cell_type": "markdown",
   "id": "e19e2bb3",
   "metadata": {},
   "source": [
    "<img src=\"fig/01/a-review/06-b-pattern-03-flow-if_elif_else.png\" width=\"200\" height=\"150\" alt=\"06-b-パターン-03-flow-if_elif_else\">"
   ]
  },
  {
   "cell_type": "markdown",
   "id": "cd6e9701",
   "metadata": {},
   "source": [
    "#### 例題(Example)-03: [if-elif-else文] 現在(プログラム実行時)の時刻に適した挨拶を表示する\n",
    "\n",
    "  * (1) 現在(プログラム実行時)の時刻を整数で取得します\n",
    "    * datetimeモジュールを使用します\n",
    "      * import 文でモジュールの使用宣言をした後，\n",
    "      * datetime.datetime.now().hourで現在時刻が取得できます\n",
    "      * 今のところ，「おまじない」になってしまっているかもしれませんが\n",
    "        * 追々，詳細を解説していきますので，理解していきましょう\n",
    "      \n",
    "  * (2) 現在の時刻を表示します\n",
    "    * f文字列(書式付き文字列)\n",
    "      * 文字列の開始引用符の前にfを付けます\n",
    "        * 文字列中の中括弧内に指定した変数を，その値を展開できます\n",
    "    　  * 少し，古めの解説などでは，文字列の書式設定には，書式演算子(%)やformat()メソッドを使っていますが，\n",
    "          * 今では，このf文字列を使った方が読みやすく書きやすいでしょう\n",
    "          * ちなみに，f文字列のfはformat(書式)に由来します\n",
    "\n",
    "  * (3) 時刻に適した挨拶を表示します\n",
    "    * 午前3時以前と午後6時以降: こんばんは\n",
    "    * 午前4時～午前5時: おはようございます．お早いですね\n",
    "    * 午前6時～午前9時: おはようございます\n",
    "    * 午前10時～午後5時: こんにちは"
   ]
  },
  {
   "cell_type": "code",
   "execution_count": 4,
   "id": "956e1e5a",
   "metadata": {},
   "outputs": [
    {
     "name": "stdout",
     "output_type": "stream",
     "text": [
      "今の時刻は，14時です．\n",
      "こんにちは\n"
     ]
    }
   ],
   "source": [
    "# ===== [例題-03: if-elif-else文] \n",
    "\n",
    "# ----- (1) 現在(プログラム実行時)の時刻を整数で取得します -----\n",
    "#  * datetimeモジュールを使用します\n",
    "#    * import 文でモジュールの使用宣言をした後，\n",
    "#    * datetime.datetime.now().hourで現在時刻が取得できます\n",
    "import datetime\n",
    "hour_now = datetime.datetime.now().hour\n",
    "\n",
    "# ----- (2) 現在の時刻を表示します -----\n",
    "#  * f文字列(書式付き文字列)では，\n",
    "#    * 中括弧内に指定した変数の値を展開できます\n",
    "print( f\"今の時刻は，{hour_now}時です．\" )\n",
    "\n",
    "# ----- (3) 時刻に適した挨拶を表示します -----\n",
    "#  * 時刻に適した挨拶\n",
    "#    * 午前3時以前と午後6時以降: こんばんは\n",
    "#    * 午前4時～午前5時: おはようございます．お早いですね\n",
    "#    * 午前6時～午前9時: おはようございます\n",
    "#    * 午前10時～午後5時: こんにちは\n",
    "\n",
    "if hour_now <= 3 or hour_now > 17:\n",
    "    print( \"こんばんは\" )\n",
    "elif hour_now <= 5:\n",
    "    print( \"おはようございます\", \"お早いですね\" )\n",
    "elif hour_now <= 9:\n",
    "    print( \"おはようございます\" )\n",
    "elif hour_now <= 17:\n",
    "    print( \"こんにちは\" )"
   ]
  },
  {
   "cell_type": "markdown",
   "id": "6c276ce0",
   "metadata": {},
   "source": [
    "#### 練習問題(Practice)-02: [if-elif-else文] fizz/buzz判定\n",
    "\n",
    "  * (1) xという変数に，好きな100未満の正の整数を代入してください\n",
    "  * (2) その変数が，3の倍数なら\"fizz\"，5の倍数なら\"buzz\"，その両方を満たすなら\"fizzbuzz\"，いずれでもなければ，その整数をそのまま，表示してください\n",
    "  * note:\n",
    "    * 2つの条件式の論理積は，二項演算子andで表現します\n",
    "      * 「『3の倍数』かつ『5の倍数』」の「かつ」ですね\n",
    "      * これは，3と5の最小公倍数15を使って，『15の倍数』として表現できます（し，そうした方が若干計算が速くなるときたいできますが）が，\n",
    "        * あえて，論理積(and)を使ってみてください"
   ]
  },
  {
   "cell_type": "code",
   "execution_count": 5,
   "id": "fd426bc2",
   "metadata": {},
   "outputs": [
    {
     "name": "stdout",
     "output_type": "stream",
     "text": [
      "fizzbuzz\n"
     ]
    }
   ],
   "source": [
    "# ===== [練習問題-01: if-elif-else文] fizz/buzz判定 =====\n",
    "#  * (1) xという変数に，好きな100未満の正の整数を代入してください\n",
    "#  * (2) その変数が，3の倍数なら\"fizz\"，5の倍数なら\"buzz\"，その両方を満たすなら\"fizzbuzz\"，いずれでもなければ，その整数をそのまま，表示してください\n",
    "#  * note:\n",
    "#    * 2つの条件式の論理積は，二項演算子andで表現します\n",
    "\n",
    "# ----- (1) -----\n",
    "x = 30\n",
    "# ----- (2) -----\n",
    "if x % 3 == 0 and x % 5 ==0:\n",
    "    print( \"fizzbuzz\" )\n",
    "elif x % 3 == 0:\n",
    "    print( \"fizz\" )\n",
    "elif x % 5 == 0:\n",
    "    print( \"buzz\" )\n",
    "else:\n",
    "    print( x )"
   ]
  },
  {
   "cell_type": "markdown",
   "id": "db27cbd0",
   "metadata": {},
   "source": [
    "----\n",
    "### [1-b] 反復/ループ (for文)\n",
    "(<a href=\"#目次\"> 目次に戻る </a>)"
   ]
  },
  {
   "cell_type": "markdown",
   "id": "0f729936",
   "metadata": {},
   "source": [
    "#### → 参考リンク: for文\n",
    "\n",
    "  * チュートリアル: [for文](https://docs.python.org/ja/3/tutorial/controlflow.html#for-statements)\n",
    "  * ドキュメント: [for文](https://docs.python.org/ja/3/tutorial/controlflow.html#for-statements)"
   ]
  },
  {
   "cell_type": "markdown",
   "id": "7837b780",
   "metadata": {},
   "source": [
    "### Ex_04: forループ (for_loop) → パターン-04"
   ]
  },
  {
   "cell_type": "markdown",
   "id": "e1fc2e70",
   "metadata": {},
   "source": [
    "<img src=\"fig/01/a-review/08-a-pattern-04-for.png\" width=\"150\" height=\"150\" alt=\"08-a-パターン-04-for\">"
   ]
  },
  {
   "cell_type": "markdown",
   "id": "dda3d3ac",
   "metadata": {},
   "source": [
    "  * <span style=\"color: red; \">for文</span>\n",
    "    * <span style=\"color: red; \">〈範囲〉</span>の要素を，順に<span style=\"color: red; \">〈制御変数〉</span>に代入しながら，<span style=\"color: red; \">〈ブロック〉</span>を反復実行する"
   ]
  },
  {
   "cell_type": "markdown",
   "id": "393df8ad",
   "metadata": {},
   "source": [
    "  * よく使われる〈範囲〉の指定方法-1\n",
    "    * <span style=\"color: red; \">range()関数</span>\n",
    "      * <span style=\"color: red; \">range( stop )</span>\n",
    "        * 0から始めて，パラメータstopの「手前」までの範囲\n",
    "          * stopの値を含まないことに注意\n",
    "          * (例) range( 10 ) : 0～9までの範囲(10回繰り返す)\n",
    "      * <span style=\"color: red; \">range( start, stop )</span>\n",
    "        * startから始めて，パラメータstopの「手前」までの範囲\n",
    "          * つまり，startを省略するとゼロとなる\n",
    "          * (例) range( 3, 10 ) : 3～9までの範囲\n",
    "      * <span style=\"color: red; \">range( start, stop, step )</span>\n",
    "        * stepずつ，制御変数の値が変化する\n",
    "          * つまり，stepを省略すると1となるが，1以外を指定することができる\n",
    "            * (例) range( 3, 10, 2 ) : 3, 5, 7, 9\n",
    "          * stepに負の値を指定することもできる\n",
    "            * (例) range( 10, 3, -2 ) : 10, 8, 6, 4"
   ]
  },
  {
   "cell_type": "markdown",
   "id": "3c8321b1",
   "metadata": {},
   "source": [
    "<img src=\"fig/01/a-review/08-b-pattern-04-flow-for.png\" width=\"200\" height=\"150\" alt=\"08-b-パターン-04-flow-for\">"
   ]
  },
  {
   "cell_type": "markdown",
   "id": "ab2fd561",
   "metadata": {},
   "source": [
    "#### 例題(Example)-04: [for文]  0～4までの偶数\n",
    "\n",
    "  * やりたいこと\n",
    "    * 0～4までの整数で，偶数のものだけを表示する\n",
    "  * フィルタのような挙動をさせるパターンです\n",
    "    * ループの中で\n",
    "      * 制御変数が特定の条件を満たすときだけ，\n",
    "        * 何らかのアクションを実施します\n",
    "    "
   ]
  },
  {
   "cell_type": "code",
   "execution_count": 6,
   "id": "4614d573",
   "metadata": {},
   "outputs": [
    {
     "name": "stdout",
     "output_type": "stream",
     "text": [
      "0\n",
      "2\n",
      "4\n"
     ]
    }
   ],
   "source": [
    "# ===== [例題-04: for文]  0～4までの偶数 =====\n",
    "#  * 0～4までの整数で，偶数のものだけを表示する \n",
    "\n",
    "for x in range( 5 ):\n",
    "    if x % 2 == 0:\n",
    "        print( x )"
   ]
  },
  {
   "cell_type": "markdown",
   "id": "a85b7af7",
   "metadata": {},
   "source": [
    "#### 練習問題(Practice)-02: [for文] 0～10までの3の倍数\n",
    "\n",
    "  * やりたいこと\n",
    "    * 0～10までの整数で，3の倍数だけを表示する\n",
    "  * 上限値以外は，基本的には，上の例題と同じだが，\n",
    "    * よりシンプルに，stepを3にしたrange()関数を使って，3つおきに表示させください"
   ]
  },
  {
   "cell_type": "code",
   "execution_count": 7,
   "id": "a6e15e44",
   "metadata": {},
   "outputs": [
    {
     "name": "stdout",
     "output_type": "stream",
     "text": [
      "0\n",
      "3\n",
      "6\n",
      "9\n"
     ]
    }
   ],
   "source": [
    "# ===== [練習問題-02: for文] 0～10までの3の倍数 =====\n",
    "#  * 0～10までの整数で，3の倍数のものだけを表示する \n",
    "#    * シンプルに，stepを3にしたrange()関数を使って，3つおきに表示させください\n",
    "\n",
    "for x in range( 0, 11, 3 ):\n",
    "    print( x )"
   ]
  },
  {
   "cell_type": "markdown",
   "id": "20a4412c",
   "metadata": {},
   "source": [
    "### Ex_05: forループ (for_loop)"
   ]
  },
  {
   "cell_type": "markdown",
   "id": "68373555",
   "metadata": {},
   "source": [
    "<img src=\"fig/01/a-review/10-b-ex-05-flow-for_break.png\" width=\"200\" height=\"150\" alt=\"10-b-例題-05-flow-for_break\">"
   ]
  },
  {
   "cell_type": "markdown",
   "id": "8e795391",
   "metadata": {},
   "source": [
    "  * <span style=\"color: red; \">break文</span>は，ループ(forループも後述のwhileループも)を脱出させる制御構文である\n",
    "    * 多重のループであっても，実行するbreak文を囲む一番内側のループだけを抜ける\n",
    "    * 通常，if文と組み合わせて，何らかの条件が成立した場合脱出させる\n",
    "      * ループ中の異常検出なども典型的であるが，必ずしも異常時だけに使うわけではない\n",
    "     * for文にelse-節をつけると，breakせずにループを完了したときのみ実行される，〈elseブロック〉を書くこともできる \n",
    "       * いずれ，例題を通して，初級スキルセットとして導入するかもしれませんが，入門スキルセットとしては扱いません(ので現時点で知識になくて支障ありません)"
   ]
  },
  {
   "cell_type": "markdown",
   "id": "14260f35",
   "metadata": {},
   "source": [
    "#### 例題(Example)-05: [for文/break文]  0～4までループする中で，3が出現したら中断する\n",
    "\n",
    "  * そもそもが，0～3までループさせることと等価だが...\n",
    "    * あえてbreak文でループを中断させる\n",
    "    * 3は表示する"
   ]
  },
  {
   "cell_type": "code",
   "execution_count": 8,
   "id": "ce94141a",
   "metadata": {},
   "outputs": [
    {
     "name": "stdout",
     "output_type": "stream",
     "text": [
      "0\n",
      "1\n",
      "2\n",
      "3\n"
     ]
    }
   ],
   "source": [
    "# ===== [例題-05: for文/break文] 0～4までループする中で，3が出現したら中断する =====\n",
    "#  * あえてbreak文でループを中断させる\n",
    "\n",
    "for x in range( 5 ):\n",
    "    print( x )\n",
    "    if x == 3:\n",
    "        break"
   ]
  },
  {
   "cell_type": "markdown",
   "id": "631e2857",
   "metadata": {},
   "source": [
    "  * <span style=\"color: red; \">continue文</span>\n",
    "    * break文と同様に，if文と組み合わせて，ある条件が成立したときだけ，ループ実行を制御する構文，continue文がある\n",
    "    * ループを抜けるのではなく，その回の〈反復実行ブロック〉の残りの実行を飛ばして，次の周回に入るように，ループを継続する制御文\n",
    "       * if-else構文でも同等のことができるので，ここでは省略します"
   ]
  },
  {
   "cell_type": "markdown",
   "id": "3d04fbf5",
   "metadata": {},
   "source": [
    "### Ex_06: forループ (for_loop)"
   ]
  },
  {
   "cell_type": "markdown",
   "id": "aed53d4b",
   "metadata": {},
   "source": [
    "<img src=\"fig/01/a-review/11-b-ex-06-flow-for.png\" width=\"150\" height=\"150\" alt=\"11-b-例題-06-flow-for\">"
   ]
  },
  {
   "cell_type": "markdown",
   "id": "ccc70fc3",
   "metadata": {},
   "source": [
    "#### 例題(Example)-06: [for文] 0～9までの総和を計算し，表示する\n",
    "\n",
    "  * 変数sum に，0～9までの総和を求める\n",
    "    * +=は，加算代入演算子\n",
    "      * sum += x は， sum = sum + x と等価である\n",
    "      * 複合代入演算子（累算代入演算子)の一種であり，他にも，-=や*=などがあります\n",
    "  * ループの外側に，累積的に計算結果を更新していく変数(ここではsum)を置くパターンです"
   ]
  },
  {
   "cell_type": "code",
   "execution_count": 9,
   "id": "55a3be5e",
   "metadata": {},
   "outputs": [
    {
     "name": "stdout",
     "output_type": "stream",
     "text": [
      "45\n"
     ]
    }
   ],
   "source": [
    "# ===== [例題-06: for文] 0～9までの総和を計算し，表示する =====\n",
    "\n",
    "sum = 0\n",
    "\n",
    "for x in range( 10 ):\n",
    "    sum += x\n",
    "\n",
    "print( sum )"
   ]
  },
  {
   "cell_type": "markdown",
   "id": "dd1348ca",
   "metadata": {},
   "source": [
    "#### 練習問題(Practice)-03: [for文]  二重ループ: 「九九の表」を表示する\n",
    "\n",
    "  * 以下のような「九九の表」を表示してください\n",
    "    * for文の入れ子(ネスティング)\n",
    "      * for文の内側で，別のfor文を回す二重ループ\n",
    "      * 行のループの内側で．列のループを回すとよさそうですね\n",
    "    * 解答欄の計算セルの下に，この練習問題に取り組むにあたり，「役立つ知識」を2つ載せてありますので，ご覧ください"
   ]
  },
  {
   "cell_type": "raw",
   "id": "8d9f2735",
   "metadata": {},
   "source": [
    " |01|02|03|04|05|06|07|08|09|\n",
    " |02|04|06|08|10|12|14|16|18|\n",
    " |03|06|09|12|15|18|21|24|27|\n",
    " |04|08|12|16|20|24|28|32|36|\n",
    " |05|10|15|20|25|30|35|40|45|\n",
    " |06|12|18|24|30|36|42|48|54|\n",
    " |07|14|21|28|35|42|49|56|63|\n",
    " |08|16|24|32|40|48|56|64|72|\n",
    " |09|18|27|36|45|54|63|72|81|"
   ]
  },
  {
   "cell_type": "code",
   "execution_count": 10,
   "id": "bc55ea40",
   "metadata": {},
   "outputs": [
    {
     "name": "stdout",
     "output_type": "stream",
     "text": [
      " |01|02|03|04|05|06|07|08|09|\n",
      " |02|04|06|08|10|12|14|16|18|\n",
      " |03|06|09|12|15|18|21|24|27|\n",
      " |04|08|12|16|20|24|28|32|36|\n",
      " |05|10|15|20|25|30|35|40|45|\n",
      " |06|12|18|24|30|36|42|48|54|\n",
      " |07|14|21|28|35|42|49|56|63|\n",
      " |08|16|24|32|40|48|56|64|72|\n",
      " |09|18|27|36|45|54|63|72|81|\n"
     ]
    }
   ],
   "source": [
    "# ===== [練習問題-03: for文] 二重ループ: 「九九の表」を表示する =====\n",
    "#  * 九九の表を表示する\n",
    "\n",
    "for row in range( 1, 10 ):\n",
    "    print( \" |\", end=\"\" )\n",
    "    for col in range( 1, 10 ):\n",
    "        print( f\"{(row * col):02}|\", end=\"\" )\n",
    "    print()"
   ]
  },
  {
   "cell_type": "markdown",
   "id": "c7f988c8",
   "metadata": {},
   "source": [
    "  * 「九九の表」の実装上，必要な他の知識(1)\n",
    "    * print()関数での，行末の改行の抑制\n",
    "      * オプションパラメータendを使います\n",
    "        * まず，「おまじない」として導入すると...\n",
    "          * abcという文字列の表示後，改行させないためには\n",
    "            * print( \"abc\", end=\"\" )\n",
    "        * 意味合いを簡単に説明すると\n",
    "          * endパラメータは，表示後に「追加表示する文字列」\n",
    "          * endパラメータを省略すると，暗黙値(default value)として改行文字(\\n)が使用されます\n",
    "            * すなわち，print( \"abc\" )はprint( \"abc\", end=\"\\n\" )と等価となります\n",
    "    * 以下の計算セルで試してみてください"
   ]
  },
  {
   "cell_type": "code",
   "execution_count": 11,
   "id": "2c5e6b76",
   "metadata": {},
   "outputs": [
    {
     "name": "stdout",
     "output_type": "stream",
     "text": [
      "abc\n",
      "abcdef\n",
      "+--+--+--+--+--+--+--+--+--+\n"
     ]
    }
   ],
   "source": [
    "print( \"abc\" )\n",
    "print( \"abc\", end=\"\" ) # 改行しないので，次の行とつながる\n",
    "print( \"def\" )\n",
    "\n",
    "# 表に横罫線を入れる（練習問題では求めません）\n",
    "print( \"+\", end=\"\" )\n",
    "for col in range( 1, 10 ):\n",
    "    print( \"--+\", end=\"\" )\n",
    "print()"
   ]
  },
  {
   "cell_type": "markdown",
   "id": "c5f80737",
   "metadata": {},
   "source": [
    "  * 「九九の表」の実装上，必要な他の知識(2)\n",
    "    * f文字列(書式付き文字列)での，10進整数の桁数指定\n",
    "      * f\"{x:5}\"と指定すると，xを5桁で表示します\n",
    "        * 値が5桁未満の場合，左に空白を埋めます\n",
    "          * f\"{x:05}\"と指定すると，空白の代わりにゼロを埋めます\n",
    "        * 値が5桁以上の場合は桁数指定は無視します\n",
    "          * 5桁以上の数値を5桁で切ってしまったらこまりますよね．"
   ]
  },
  {
   "cell_type": "code",
   "execution_count": 12,
   "id": "b8905d70",
   "metadata": {},
   "outputs": [
    {
     "name": "stdout",
     "output_type": "stream",
     "text": [
      "   123 \n",
      "|  123|\n",
      "|  123|\n",
      "|12345678|\n"
     ]
    }
   ],
   "source": [
    "x = 123; y = 12345678\n",
    "print( f\" {x:5} \" )\n",
    "print( f\"|{x:5}|\" )\n",
    "print( f\"|{x:5}|\" )\n",
    "print( f\"|{y:5}|\" )"
   ]
  },
  {
   "cell_type": "markdown",
   "id": "263bf586",
   "metadata": {},
   "source": [
    "### Ex_07: forループ (for_loop)"
   ]
  },
  {
   "cell_type": "markdown",
   "id": "fe69f517",
   "metadata": {},
   "source": [
    "#### 例題(Example)-07: [for文] 0～20までの中で，3の倍数と5の倍数のそれぞれの個数を数える\n",
    "\n",
    "  * これも，例題-08と同様のパターンです\n",
    "    * ループの外側で，変数を初期化し，\n",
    "      * ここでは，カウンタする変数(count_...)です\n",
    "    * その変数を，ループの周回の度に，条件に応じて更新していきます\n",
    "    * 結果は，ループの終了後に，その変数に，得られます\n",
    "    \n",
    "  * 計算結果は...\n",
    "    * 0～20までの中での3の倍数: 0,3,6,9,12,15,18\n",
    "      * その個数は: 7\n",
    "    * 0～20までの中での3の倍数: 0,5,10,15,20\n",
    "      * その個数は: 5"
   ]
  },
  {
   "cell_type": "code",
   "execution_count": 13,
   "id": "fa95c6bd",
   "metadata": {},
   "outputs": [
    {
     "name": "stdout",
     "output_type": "stream",
     "text": [
      "3の倍数の個数:  7\n",
      "5の倍数の個数:  5\n"
     ]
    }
   ],
   "source": [
    "# ===== [例題-07: for文] 0～20までの中で，3の倍数と5の倍数のそれぞれの個数を数える =====\n",
    "\n",
    "count_multiple_of_3 = 0\n",
    "count_multiple_of_5 = 0\n",
    "\n",
    "for x in range( 21 ):\n",
    "    if x % 3 == 0:\n",
    "       count_multiple_of_3 += 1\n",
    "    if x % 5 ==0:\n",
    "       count_multiple_of_5 += 1\n",
    "\n",
    "print( \"3の倍数の個数: \", count_multiple_of_3 )\n",
    "print( \"5の倍数の個数: \", count_multiple_of_5 )"
   ]
  },
  {
   "cell_type": "markdown",
   "id": "656fd16e",
   "metadata": {},
   "source": [
    "### Ex_08: forループ (for_loop)"
   ]
  },
  {
   "cell_type": "markdown",
   "id": "1631516e",
   "metadata": {},
   "source": [
    "  * <span style=\"color: red; \">forループでの〈範囲〉の指定方法-2</span>\n",
    "    * <span style=\"color: red; \">文字列</span>や，<span style=\"color: red; \">リスト(後述)</span>のように，<span style=\"color: red; \">〈列〉(シーケンス)</span>を〈範囲〉指定に使うと...\n",
    "      * その〈列〉(シーケンス)の要素を順に，<span style=\"color: red; \">制御変数</span>に代入しながら，ループする"
   ]
  },
  {
   "cell_type": "markdown",
   "id": "d7de3b5a",
   "metadata": {},
   "source": [
    "<img src=\"fig/01/a-review/13-b-ex-08-flow-for.png\" width=\"200\" height=\"150\" alt=\"13-b-例題-08-flow-for\">"
   ]
  },
  {
   "cell_type": "markdown",
   "id": "a1920e56",
   "metadata": {},
   "source": [
    "<img src=\"fig/01/a-review/13-c-ex-08-data-for.png\" width=\"200\" height=\"80\" alt=\"13-c-例題-08-data-for\">"
   ]
  },
  {
   "cell_type": "markdown",
   "id": "7487d814",
   "metadata": {},
   "source": [
    "  * 〈文字列〉を構成する〈文字〉を文字列として順に表示する\n",
    "    * <span style=\"color: red; \">〈添え字(index)〉\n",
    "      * 〈文字列〉では，0で始まる添え字(index)で指定することで，その位置の文字に文字列としてアクセスすることができる\n",
    "      * (例) \"abcdef\"[3] → \"d\"\n",
    "    * <span style=\"color: red; \">〈スライス〉\n",
    "      * 部分範囲を指定する〈スライス〉で，部分文字列を取得することもできる\n",
    "        * [start:stop:step]\n",
    "      * (例) \"abcdef\"[1:4] → \"bcd\"\n",
    "      * (例) \"abcdef\"[1:4:2] → \"bd\""
   ]
  },
  {
   "cell_type": "code",
   "execution_count": 14,
   "id": "fad346e0",
   "metadata": {},
   "outputs": [
    {
     "name": "stdout",
     "output_type": "stream",
     "text": [
      "bcd\n",
      "bd\n"
     ]
    }
   ],
   "source": [
    "print( \"abcdef\"[1:4]  )\n",
    "print( \"abcdef\"[1:4:2] )"
   ]
  },
  {
   "cell_type": "markdown",
   "id": "e919843c",
   "metadata": {},
   "source": [
    "#### 例題(Example)-08: [for文]  文字列中の各文字を，順に一行ずつ表示する\n",
    "\n",
    "  * 文字列は，繰り返し可能オブジェクト(iterable)なので，for文での反復実行の制御に使うことができる"
   ]
  },
  {
   "cell_type": "code",
   "execution_count": 15,
   "id": "572b4e4a",
   "metadata": {},
   "outputs": [
    {
     "name": "stdout",
     "output_type": "stream",
     "text": [
      "a\n",
      "b\n",
      "c\n",
      "d\n",
      "e\n",
      "f\n"
     ]
    }
   ],
   "source": [
    "# ===== [例題-08: for文] 文字列中の各文字を，順に一行ずつ表示する =====\n",
    "# * 文字列は，繰り返し可能オブジェクト(iterable)なので，\n",
    "#   * for文での反復実行の制御に使うことができる\n",
    "\n",
    "for c in \"abcdef\":\n",
    "    print( c )"
   ]
  },
  {
   "cell_type": "markdown",
   "id": "be781d96",
   "metadata": {},
   "source": [
    "#### 練習問題(Practice)-04: [for文] 文字列中の数字の総和(左から数字以外の文字が出るまで)\n",
    "\n",
    "  * 与えられた文字列の中に，数字以外の文字が出現するまで\n",
    "    * 左端から1文字ずつ順に数字を，1桁の数値に変換して，\n",
    "    * 総和を求める\n",
    "  * 文字列(長さ1)が数字であるかどうかを判定するメソッド\n",
    "    * 文字列.isdigit()\n",
    "      * (例) \"5\".isdigit()\n",
    "      * (例) \"g\".isdigit()\n",
    "  * 整数を意味する文字列を，数値へ変換するメソッド\n",
    "    * int( 文字列 )\n",
    "      * (例) int( \"5\" ) → 5"
   ]
  },
  {
   "cell_type": "code",
   "execution_count": 16,
   "id": "8125dcbf",
   "metadata": {},
   "outputs": [
    {
     "name": "stdout",
     "output_type": "stream",
     "text": [
      "15\n"
     ]
    }
   ],
   "source": [
    "# ===== [練習問題-04: for文] 文字列中の数字の総和(左から数字以外の文字が出るまで) =====\n",
    "#  * 与えられた文字列の中に，数字以外の文字が出現するまで\n",
    "#   * 左端から1文字ずつ順に数字を，1桁の数値に変換して，\n",
    "#   * 総和を求める\n",
    "# * 文字列(長さ1)が数字であるかどうかを判定するメソッド\n",
    "#   * 文字列.isdigit()\n",
    "#     * (例) \"5\".isdigit()\n",
    "#     * (例) \"g\".isdigit()\n",
    "# * 整数を意味する文字列を，数値へ変換するメソッド\n",
    "#   * int( 文字列 )\n",
    "#     * (例) int( \"5\" ) → 5\n",
    "\n",
    "sum = 0\n",
    "for c in \"12345q6789\":\n",
    "    if c.isdigit():\n",
    "        x = int( c )\n",
    "        sum += x\n",
    "    else:\n",
    "        break\n",
    "\n",
    "print( sum )"
   ]
  },
  {
   "cell_type": "markdown",
   "id": "1815bd61",
   "metadata": {},
   "source": [
    "#### 数値へ変換できる文字列かどうかを判定するメソッド\n",
    "\n",
    "  * <span style=\"color: red; \">数値へ変換できる文字列かどうかを判定するメソッド</span>\n",
    "    * <span style=\"color: red; \">「1文字の数字」を意味する文字列かどうか</span>は判定できる\n",
    "      * 文字列.isdigit()\n",
    "    * <span style=\"color: red; \">「正の整数」へ変換可能かどうか</span>も判定できる\n",
    "      * 文字列.isnumeric()\n",
    "    * しかし，<span style=\"color: red; \">負の整数や，小数点のある実数は判定できない</span>\n",
    "      * それを実装するには，もう少しスキルが必要ですから，いずれ取り組みましょう\n",
    "        * 方法(1): <span style=\"color: red; \">例外処理</span>を使う\n",
    "          * ← 安直な方法\n",
    "        * 方法(2): <span style=\"color: red; \">正規表現</span>を使う\n",
    "          * ← 適切な正規表現を構築するのは，なかなか難しい"
   ]
  },
  {
   "cell_type": "code",
   "execution_count": 17,
   "id": "fe3f9145",
   "metadata": {},
   "outputs": [
    {
     "name": "stdout",
     "output_type": "stream",
     "text": [
      "isdigit: 5は数字か?:  True\n",
      "isdigit: cは数字か?:  False\n",
      "isnumeric: 123は 正の整数文字列か?:  True\n",
      "isnumeric: -123は正の整数文字列か?:  False\n",
      "isnumeric: 12.3は正の整数文字列か?:  False\n"
     ]
    }
   ],
   "source": [
    "print( \"isdigit: 5は数字か?: \", \"5\".isdigit() )\n",
    "print( \"isdigit: cは数字か?: \", \"c\".isdigit() )\n",
    "\n",
    "print( \"isnumeric: 123は 正の整数文字列か?: \", \"123\".isnumeric() )\n",
    "print( \"isnumeric: -123は正の整数文字列か?: \", \"-123\".isnumeric() )\n",
    "print( \"isnumeric: 12.3は正の整数文字列か?: \", \"12.3\".isnumeric() )"
   ]
  },
  {
   "cell_type": "markdown",
   "id": "97dbcb7f",
   "metadata": {},
   "source": [
    "----\n",
    "### [1-c] 反復/ループ (while文)\n",
    "(<a href=\"#目次\"> 目次に戻る </a>)\n",
    "\n",
    "  * <span style=\"color: red; \">while文</span>は，<span style=\"color: red; \">〈条件〉</span>が成り立っている間，<span style=\"color: red; \">〈反復実行ブロック〉</span>を繰り返し実行する構文である"
   ]
  },
  {
   "cell_type": "markdown",
   "id": "c9fb75ec",
   "metadata": {},
   "source": [
    "#### → 参考リンク: while文\n",
    "\n",
    "  * ドキュメント: [while文](https://docs.python.org/ja/3/reference/compound_stmts.html#the-while-statement)"
   ]
  },
  {
   "cell_type": "markdown",
   "id": "df603be1",
   "metadata": {},
   "source": [
    "### Ex_09: whileループ (while_loop) → パターン-05"
   ]
  },
  {
   "cell_type": "markdown",
   "id": "5a482221",
   "metadata": {},
   "source": [
    "<img src=\"fig/01/a-review/14-a-pattern-05-while.png\" width=\"200\" height=\"100\" alt=\"14-a-パターン-05-while\">"
   ]
  },
  {
   "cell_type": "markdown",
   "id": "af57b140",
   "metadata": {},
   "source": [
    "  * 以下のfor文と同様の挙動を，while文で書いてみましょう"
   ]
  },
  {
   "cell_type": "markdown",
   "id": "3e8a5c07",
   "metadata": {},
   "source": [
    "<img src=\"fig/01/a-review/15-b-ex-09-code-while.png\" width=\"150\" height=\"80\" alt=\"15-b-例題-09-code-while\">"
   ]
  },
  {
   "cell_type": "markdown",
   "id": "4fc75b16",
   "metadata": {},
   "source": [
    "<img src=\"fig/01/a-review/15-c-ex-09-flow-while.png\" width=\"200\" height=\"150\" alt=\"15-c-例題-09-flow-while\">"
   ]
  },
  {
   "cell_type": "markdown",
   "id": "a5d9b15b",
   "metadata": {},
   "source": [
    "#### 例題(Example)-09: [while文]  0～4までのループ回数を，順に表示する\n",
    "\n",
    "  * 0～4までのループ回数を，順に表示する"
   ]
  },
  {
   "cell_type": "code",
   "execution_count": 18,
   "id": "90cbf808",
   "metadata": {},
   "outputs": [
    {
     "name": "stdout",
     "output_type": "stream",
     "text": [
      "0\n",
      "1\n",
      "2\n",
      "3\n",
      "4\n"
     ]
    }
   ],
   "source": [
    "# ===== [例題-09: while文] 0～4までのループ回数を，順に表示する =====\n",
    "# * 0～4までのループ回数を，順に表示する\n",
    "\n",
    "x = 0\n",
    "while x < 5:\n",
    "    print( x )\n",
    "    x += 1  "
   ]
  },
  {
   "cell_type": "markdown",
   "id": "7ced073f",
   "metadata": {},
   "source": [
    "### Ex_10: whileループ (while_loop)"
   ]
  },
  {
   "cell_type": "markdown",
   "id": "01d37ec9",
   "metadata": {},
   "source": [
    "<img src=\"fig/01/a-review/16-b-ex-10-flow-while.png\" width=\"200\" height=\"150\" alt=\"16-b-例題-10-flow-while \">"
   ]
  },
  {
   "cell_type": "markdown",
   "id": "d4c953ad",
   "metadata": {},
   "source": [
    "#### 例題(Example)-10: [while文/break文]  0～4までのループ回数を，順に表示する\n",
    "\n",
    "  * 0～4までのループ回数を，順に表示する\n",
    "    * 制御変数を増やしていく無限ループから，\n",
    "      * 制御変数が5になったときに脱出する\n",
    "  * <span style=\"color: red; \">無限ループ</span>を作るには，while文の条件式をTrueにすればよい"
   ]
  },
  {
   "cell_type": "code",
   "execution_count": 19,
   "id": "b7e869ff",
   "metadata": {},
   "outputs": [
    {
     "name": "stdout",
     "output_type": "stream",
     "text": [
      "0\n",
      "1\n",
      "2\n",
      "3\n",
      "4\n"
     ]
    }
   ],
   "source": [
    "# ===== [例題-10: while文]  =====\n",
    "# * 0～4までのループ回数を，順に表示する\n",
    "#   * 制御変数を増やしていく無限ループから，\n",
    "#     * 制御変数が5になったときに脱出する\n",
    "# * 無限ループを作るには，while文の条件式をTrueにすればよい\n",
    "\n",
    "x = 0\n",
    "while True:\n",
    "    if x == 5:\n",
    "        break\n",
    "    print( x )\n",
    "    x += 1"
   ]
  },
  {
   "cell_type": "markdown",
   "id": "7dd40bea",
   "metadata": {},
   "source": [
    "#### 練習問題(Practice)-05: [while文] 二乗したときに50未満となるような整数列\n",
    "\n",
    "  * 0から始めて，二乗したときに50未満である間，整数を表示する\n",
    "  * <span style=\"color: red; \">線形探索パターン</span>\n",
    "    * 二乗したときに50未満になる最大の整数を探索することにも相当する\n",
    "  * <span style=\"color: red; \">for文とwhile文の使い分け</span>\n",
    "    * for文を使うとき\n",
    "      * 基本的にループの回数や，制御変数の変化する系列が事前にわかっているとき\n",
    "    * while文を使うとき\n",
    "      * ループを実行してみないと，ループ回数などが事前にわからないときなど\n",
    "      * もちろん，この練習問題に限って言えば\n",
    "        * 平方根を計算し，小数点以下を切り捨てることで，ループ回数は事前にわかりますが..."
   ]
  },
  {
   "cell_type": "code",
   "execution_count": 20,
   "id": "45997f12",
   "metadata": {},
   "outputs": [
    {
     "name": "stdout",
     "output_type": "stream",
     "text": [
      "0 0\n",
      "1 1\n",
      "2 4\n",
      "3 9\n",
      "4 16\n",
      "5 25\n",
      "6 36\n",
      "7 49\n"
     ]
    }
   ],
   "source": [
    "# ===== [練習問題-05: while文] 二乗したときに50未満となるような整数列 =====\n",
    "# * 0から始めて，二乗したときに50未満である間，整数を表示する\n",
    "# * 線形探索パターン\n",
    "#   * 二乗したときに50未満になる最大の整数を探索することにも相当する\n",
    "\n",
    "x = 0\n",
    "while x ** 2 < 50:\n",
    "    print( x, x ** 2 )\n",
    "    x += 1"
   ]
  },
  {
   "cell_type": "markdown",
   "id": "a0a03dd0",
   "metadata": {},
   "source": [
    "----\n",
    "### [2] 復習: 入出力 (I/O; input/output) → パターン-06\n",
    "(<a href=\"#目次\"> 目次に戻る </a>)"
   ]
  },
  {
   "cell_type": "markdown",
   "id": "ee663abd",
   "metadata": {},
   "source": [
    "<img src=\"fig/01/a-review/17-a-pattern-06-input.png\" width=\"200\" height=\"100\" alt=\"17-a-パターン-06-input\">"
   ]
  },
  {
   "cell_type": "markdown",
   "id": "019102f4",
   "metadata": {},
   "source": [
    "### [2-a] input関数\n",
    "(<a href=\"#目次\"> 目次に戻る </a>)"
   ]
  },
  {
   "cell_type": "markdown",
   "id": "a15f9d4a",
   "metadata": {},
   "source": [
    "### Ex_11: input関数 / print関数\n",
    "\n",
    "   * <span style=\"color: red; \">標準入出力</span> (ターミナル・ウィンドウ / Windowsならコマンド・プロンプト)\n",
    "     * 標準入力 (キーボード入力)\n",
    "       * <span style=\"color: red; \">input関数</span>\n",
    "     * 標準出力 (コンソール出力 / 画面出力)\n",
    "       * <span style=\"color: red; \">print関数</span>"
   ]
  },
  {
   "cell_type": "markdown",
   "id": "a71f434f",
   "metadata": {},
   "source": [
    "#### 例題(Example)-11: [input関数]   基本的な使い方\n",
    "\n",
    "  * 標準入力 (キーボード入力)から，文字列を受け取ります\n",
    "    * input関数の引数は，入力を促すために，表示される文字列です\n",
    "      * プロンプト・メッセージないし入力促進文字列と言います\n",
    "    * input関数の返戻値(返す値)は，入力された文字列です"
   ]
  },
  {
   "cell_type": "code",
   "execution_count": 21,
   "id": "914404dd",
   "metadata": {},
   "outputs": [
    {
     "name": "stdout",
     "output_type": "stream",
     "text": [
      "何か文字列を入力してください: xxxxx\n",
      "入力されたのはxxxxx\n"
     ]
    }
   ],
   "source": [
    "# ===== 例題(Example)-11: [input関数] 基本的な使い方 ====\n",
    "# * input関数の基本的な使い方\n",
    "#   * 標準入力 (キーボード入力)から，文字列を受け取る\n",
    "\n",
    "x = input( \"何か文字列を入力してください: \" )\n",
    "print( \"入力されたのは\" + x )"
   ]
  },
  {
   "cell_type": "markdown",
   "id": "2cb3f155",
   "metadata": {},
   "source": [
    "### Ex_12: input関数 / print関数"
   ]
  },
  {
   "cell_type": "markdown",
   "id": "9317aee1",
   "metadata": {},
   "source": [
    "#### 例題(Example)-12: [input関数/for文]  ループの回数をキーボードから入力する\n",
    "\n",
    "  * input関数の返戻値は文字列(str)なので\n",
    "    * 数値として利用するには，整数(int)へ変換する必要があります\n",
    "      * int( 文字列 )で変換します"
   ]
  },
  {
   "cell_type": "code",
   "execution_count": 22,
   "id": "1a9d7fe6",
   "metadata": {},
   "outputs": [
    {
     "name": "stdout",
     "output_type": "stream",
     "text": [
      "1桁の整数を入力してください: 3\n",
      "0\n",
      "1\n",
      "2\n"
     ]
    }
   ],
   "source": [
    "# ===== [例題-12: [input関数/for文] ループの回数をキーボードから入力する ====\n",
    "# * input関数の返戻値は文字列(str)なので\n",
    "#   * 数値として利用するには，整数(int)へ変換する必要がある\n",
    "#     * int( 文字列 )で変換する\n",
    "\n",
    "x = input( \"1桁の整数を入力してください: \" )\n",
    "for y in range( int( x ) ):\n",
    "    print( y )"
   ]
  },
  {
   "cell_type": "markdown",
   "id": "9c222fe6",
   "metadata": {},
   "source": [
    "#### 練習問題(Practice)-06: [input関数/while文] 必要な個数の正整数データを入力する\n",
    "\n",
    "  * 正の整数の入力を繰り返して，表示する\n",
    "    * 正の整数以外のものが入力されたら，エラー表示する\n",
    "    * exitもしくはquitが入力されたら，ループを終了する\n",
    "    * 事前にデータ数がわからないときは，\n",
    "      * for文ではなく，while文がふさわしい"
   ]
  },
  {
   "cell_type": "code",
   "execution_count": 23,
   "id": "b5e3e6e3",
   "metadata": {},
   "outputs": [
    {
     "name": "stdout",
     "output_type": "stream",
     "text": [
      "正の整数を繰り返し入力してください\n",
      "　　exitもしくはquitが入力されたら，ループを終了する\n",
      "正の整数> 3\n",
      "入力された3\n",
      "正の整数> exit\n",
      "ループを終了する\n"
     ]
    }
   ],
   "source": [
    "# ===== [練習問題-06: input関数/while文] 必要な個数の正整数データを入力する ====\n",
    "# * 正の整数の入力を繰り返して，表示する\n",
    "#   * 正の整数以外のものが入力されたら，エラー表示する\n",
    "#   * exitもしくはquitが入力されたら，ループを終了する\n",
    "#   * 事前にデータ数がわからないときは，\n",
    "#     * for文ではなく，while文がふさわしい\n",
    "\n",
    "print( \"正の整数を繰り返し入力してください\" )\n",
    "print( \"　　exitもしくはquitが入力されたら，ループを終了する\" )\n",
    "\n",
    "while True:\n",
    "    x_str = input( \"正の整数> \" )\n",
    "    if x_str == \"exit\" or x_str == \"quit\":\n",
    "        print( \"ループを終了する\" )\n",
    "        break\n",
    "    if x_str.isnumeric():\n",
    "        x_int = int( x_str )\n",
    "        print( f\"入力された{ x_int }\" )\n",
    "    else:\n",
    "        print( \"入力エラー: 正の整数ではない\" )"
   ]
  },
  {
   "cell_type": "markdown",
   "id": "0e0318c6",
   "metadata": {},
   "source": [
    "----\n",
    "### [3] 復習: データ構造 (data structure) / コンテナ(container)\n",
    "(<a href=\"#目次\"> 目次に戻る </a>)"
   ]
  },
  {
   "cell_type": "markdown",
   "id": "31fa075a",
   "metadata": {},
   "source": [
    "----\n",
    "### [3-a] リストの要素の列挙 (list_enumeration)→ パターン-07\n",
    "(<a href=\"#目次\"> 目次に戻る </a>)\n",
    "\n",
    "  * 各括弧の間に，<span style=\"color: red; \">要素</span>を，カンマで区切って並べる\n",
    "    * (例) [ 1, 2, 3 ]  や [ \"a\", \"b\", \"c\" ]\n",
    "    * 要素のデータ型(タイプ)は，異なっていてもよい\n",
    "      * (例) [ 1, \"b\", 3 ] \n",
    "    * リストを要素とするリストもかまわない\n",
    "      * (例) [ [ 1, 2 ], [ 1, 2, [ 3, 4 ], 5 ]"
   ]
  },
  {
   "cell_type": "markdown",
   "id": "c61ab980",
   "metadata": {},
   "source": [
    "<img src=\"fig/01/a-review/20-a-pattern-07-list_enumeration.png\" width=\"200\" height=\"80\" alt=\"20-a-パターン-07-list_enumeration\">"
   ]
  },
  {
   "cell_type": "markdown",
   "id": "3e422acd",
   "metadata": {},
   "source": [
    "### Ex_13: リストの要素の列挙 (list_enumeration)"
   ]
  },
  {
   "cell_type": "markdown",
   "id": "ca8cee9e",
   "metadata": {},
   "source": [
    "#### 例題(Example)-13: [リスト] リストの要素を順に表示する"
   ]
  },
  {
   "cell_type": "markdown",
   "id": "b7ffcf68",
   "metadata": {},
   "source": [
    "#### 例題(Example)-13: [リスト] リストの要素</span>を順に表示する\n",
    "\n",
    "  * リスト[ \"a\", \"b\", \"c\" ]の要素を順に表示する"
   ]
  },
  {
   "cell_type": "markdown",
   "id": "38ca7eb9",
   "metadata": {},
   "source": [
    "<img src=\"fig/01/a-review/21-b-ex-13-data-list_enumeration.png\" width=\"120\" height=\"80\" alt=\"21-b-例題-13-data-list_enumeration\">"
   ]
  },
  {
   "cell_type": "code",
   "execution_count": 24,
   "id": "f59f620a",
   "metadata": {},
   "outputs": [
    {
     "name": "stdout",
     "output_type": "stream",
     "text": [
      "a\n",
      "b\n",
      "c\n"
     ]
    }
   ],
   "source": [
    "# ===== [例題-13: リスト]  リストの要素を順に表示する =====\n",
    "#  * リスト[ \"a\", \"b\", \"c\" ]の要素を順に表示する\n",
    "\n",
    "for x in [ \"a\", \"b\", \"c\" ]:\n",
    "    print( x )"
   ]
  },
  {
   "cell_type": "markdown",
   "id": "5fa27ec7",
   "metadata": {},
   "source": [
    "### Ex_14: リストの要素の列挙 (list_enumeration) "
   ]
  },
  {
   "cell_type": "markdown",
   "id": "8aa1d930",
   "metadata": {},
   "source": [
    "#### 例題(Example)-14: [リスト] 整数リストの要素の総和を求める  "
   ]
  },
  {
   "cell_type": "markdown",
   "id": "5a7c4f41",
   "metadata": {},
   "source": [
    "#### 例題(Example)-14: [リスト] 整数リストの要素の総和を求める  \n",
    "\n",
    "  * [ 1, 2, 3, 4, 5 ]の総和を求める"
   ]
  },
  {
   "cell_type": "markdown",
   "id": "7c9f67aa",
   "metadata": {},
   "source": [
    "<img src=\"fig/01/a-review/22-b-ex-14-data-list_enumeration.png\" width=\"200\" height=\"80\" alt=\"22-b-例題-14-code-list_enumeration\">"
   ]
  },
  {
   "cell_type": "code",
   "execution_count": 25,
   "id": "b31d462d",
   "metadata": {},
   "outputs": [
    {
     "name": "stdout",
     "output_type": "stream",
     "text": [
      "15\n"
     ]
    }
   ],
   "source": [
    "# ===== [例題-14: リスト]  整数リストの要素の総和を求める =====\n",
    "#  * [ 1, 2, 3, 4, 5 ]の総和を求める\n",
    "\n",
    "sum = 0\n",
    "for x in [ 1, 2, 3, 4, 5 ]:\n",
    "    sum += x\n",
    "print( sum )"
   ]
  },
  {
   "cell_type": "markdown",
   "id": "18190b1e",
   "metadata": {},
   "source": [
    "----\n",
    "### [3-b] リストの内包表記 (list_comprehension)→ パターン-08\n",
    "(<a href=\"#目次\"> 目次に戻る </a>)"
   ]
  },
  {
   "cell_type": "markdown",
   "id": "a54273be",
   "metadata": {},
   "source": [
    "<img src=\"fig/01/a-review/23-a-pattern-08-list_comprehension.png\" width=\"300\" height=\"80\" alt=\"23-a-パターン-08-list_comprehension\">"
   ]
  },
  {
   "cell_type": "markdown",
   "id": "8207921d",
   "metadata": {},
   "source": [
    "  * <span style=\"color: red; \">〈範囲〉</span>の各要素のうち，<span style=\"color: red; \">〈条件式〉</span>が成り立つものを順次，<span style=\"color: red; \">〈制御変数〉</span>に代入し，<span style=\"color: red; \">〈式〉</span>での計算結果を列挙したリスト"
   ]
  },
  {
   "cell_type": "markdown",
   "id": "0eb639df",
   "metadata": {},
   "source": [
    "### Ex_15: リストの内包表記 (list_comprehension)"
   ]
  },
  {
   "cell_type": "markdown",
   "id": "bbba0445",
   "metadata": {},
   "source": [
    "#### 例題(Example)-15: [リストの内包表記 ] 0～9まで整数の二乗から成るリストを生成する\n",
    "\n",
    "  * 内包定義でリストを生成する"
   ]
  },
  {
   "cell_type": "markdown",
   "id": "bc235ad2",
   "metadata": {},
   "source": [
    "<img src=\"fig/01/a-review/24-b-ex-15-data-list_comprehension.png\" width=\"200\" height=\"100\" alt=\"24-b-例題-15-data-list_comprehension\">"
   ]
  },
  {
   "cell_type": "markdown",
   "id": "3859b5a4",
   "metadata": {},
   "source": [
    "  * 0～9までの〈範囲〉の整数を，それぞれ二乗して作られるリスト"
   ]
  },
  {
   "cell_type": "code",
   "execution_count": 26,
   "id": "82c79778",
   "metadata": {
    "scrolled": true
   },
   "outputs": [
    {
     "name": "stdout",
     "output_type": "stream",
     "text": [
      "[0, 1, 4, 9, 16, 25, 36, 49, 64, 81]\n"
     ]
    }
   ],
   "source": [
    "# ===== [例題-15: リスト]  0～9まで整数の二乗から成るリストを生成する =====\n",
    "#  * 内包表記でリストを生成する\n",
    "\n",
    "print( [ x ** 2 for x in range( 10 ) ] )"
   ]
  },
  {
   "cell_type": "markdown",
   "id": "0999e02d",
   "metadata": {},
   "source": [
    "### Ex_16: リストの内包表記  (list_comprehension)"
   ]
  },
  {
   "cell_type": "markdown",
   "id": "161677a2",
   "metadata": {},
   "source": [
    "#### 例題(Example)-16: [リストの内包表記 ] 0～9までの〈範囲〉の中の奇数だけを列挙したリストを生成する\n",
    "\n",
    "  * 内包表記でリストを生成する"
   ]
  },
  {
   "cell_type": "markdown",
   "id": "17d3e05b",
   "metadata": {},
   "source": [
    "<img src=\"fig/01/a-review/25-b-ex-16-data-list_comprehension.png\" width=\"200\" height=\"100\" alt=\"25-b-例題-16-data-list_comprehension\">"
   ]
  },
  {
   "cell_type": "markdown",
   "id": "27227ee3",
   "metadata": {},
   "source": [
    "  * 0～9までの〈範囲〉の中の奇数だけを列挙したリスト"
   ]
  },
  {
   "cell_type": "code",
   "execution_count": 27,
   "id": "189d2d8a",
   "metadata": {},
   "outputs": [
    {
     "name": "stdout",
     "output_type": "stream",
     "text": [
      "[1, 3, 5, 7, 9]\n"
     ]
    }
   ],
   "source": [
    "# ===== [例題-16: リスト]  0～9までの〈範囲〉の中の奇数だけを列挙したリストを生成する =====\n",
    "#  * 内包表記でリストを生成する\n",
    "\n",
    "print( [ x for x in range( 10 ) if x % 2 == 1] )"
   ]
  },
  {
   "cell_type": "markdown",
   "id": "025a0eb8",
   "metadata": {},
   "source": [
    "#### 練習問題(Practice)-07: [リストの内包表記]  2次元の表: 「九九の表」\n",
    "\n",
    "  * <span style=\"color: red; \">「各行を意味するリストの，リスト」</span>で，\n",
    "    * <span style=\"color: red; \">2次元の表</span>ないし<span style=\"color: red; \">行列(Matrix)</span>を表現できます\n",
    "    * それを作るには，<span style=\"color: red; \">リストの内包表記を2重に使う</span>こともできます\n"
   ]
  },
  {
   "cell_type": "markdown",
   "id": "bcc73e7f",
   "metadata": {},
   "source": [
    "  * Pythonでは，他言語で書かれたライブラリを使うことで，高速化を図ることがよくあります\n",
    "    * Pythonよく使われるモジュール\n",
    "      * Numpyパッケージ\n",
    "        * Vector, Matrix, Tensorなどを扱うのに，C言語で作られて実行速度が速いNumpyのArrayをよく使います\n",
    "      * Pandasパッケージ\n",
    "        * 大規模な表を扱うには，PandasのDataFrameをよく使います\n",
    "      * HDF5パッケージ\n",
    "        * 比較的最近では，階層的な表データを扱うのにHDF5もよくつかわれています\n",
    "    * 基本的なPythonの言語処理系は，実行速度が遅い部類に属します\n",
    "      * 遅い原因は，インタープリタ方式（逐次実行方式）だからです\n",
    "        * 通訳方式といってもよいでしょう．\n",
    "          * 典型的には，プログラムのソースコートを1行ずつ実行時に解析しながら実行します\n",
    "        * 実行前に，プログラムを"
   ]
  },
  {
   "cell_type": "code",
   "execution_count": 28,
   "id": "46006d3e",
   "metadata": {},
   "outputs": [
    {
     "name": "stdout",
     "output_type": "stream",
     "text": [
      "[[1, 2, 3, 4, 5, 6, 7, 8, 9], [2, 4, 6, 8, 10, 12, 14, 16, 18], [3, 6, 9, 12, 15, 18, 21, 24, 27], [4, 8, 12, 16, 20, 24, 28, 32, 36], [5, 10, 15, 20, 25, 30, 35, 40, 45], [6, 12, 18, 24, 30, 36, 42, 48, 54], [7, 14, 21, 28, 35, 42, 49, 56, 63], [8, 16, 24, 32, 40, 48, 56, 64, 72], [9, 18, 27, 36, 45, 54, 63, 72, 81]]\n",
      "\n",
      "[[1, 2, 3, 4, 5, 6, 7, 8, 9],\n",
      " [2, 4, 6, 8, 10, 12, 14, 16, 18],\n",
      " [3, 6, 9, 12, 15, 18, 21, 24, 27],\n",
      " [4, 8, 12, 16, 20, 24, 28, 32, 36],\n",
      " [5, 10, 15, 20, 25, 30, 35, 40, 45],\n",
      " [6, 12, 18, 24, 30, 36, 42, 48, 54],\n",
      " [7, 14, 21, 28, 35, 42, 49, 56, 63],\n",
      " [8, 16, 24, 32, 40, 48, 56, 64, 72],\n",
      " [9, 18, 27, 36, 45, 54, 63, 72, 81]]\n"
     ]
    }
   ],
   "source": [
    "# ===== [練習問題-07: リストの内包表記] 2次元の表: 「九九の表」 =====\n",
    "#  * 「各行を意味するリストの，リスト」で，\n",
    "#   * 2次元の表ないし行列(Matrix)を表現できます\n",
    "#   * それを作るには，リストの内包表記を2重に使うこともできます\n",
    "\n",
    "table_kuku = [ [ row * col for col in range( 1, 10 ) ] for row in range( 1, 10 ) ]\n",
    "\n",
    "print( table_kuku )\n",
    "\n",
    "# ----- おまけ: pprintモジュールのpprint()関数を使うと，\n",
    "# -----         少しだけ，読みやすく整形して表示してくれます\n",
    "#  * pprintという名称は，pretty printに由来します\n",
    "\n",
    "print() # 1行空けるだけ\n",
    "\n",
    "import pprint\n",
    "pprint.pprint( table_kuku )"
   ]
  },
  {
   "cell_type": "markdown",
   "id": "d5d1a4d1",
   "metadata": {},
   "source": [
    "----\n",
    "### [4] 復習: 関数 (function)→ パターン-09/10\n",
    "(<a href=\"#目次\"> 目次に戻る </a>)"
   ]
  },
  {
   "cell_type": "markdown",
   "id": "0bd35873",
   "metadata": {},
   "source": [
    "#### 関数定義"
   ]
  },
  {
   "cell_type": "markdown",
   "id": "81615e9a",
   "metadata": {},
   "source": [
    "<img src=\"fig/01/a-review/26-a-pattern-09-function.png\" width=\"300\" height=\"100\" alt=\"26-a-パターン-09-function\">"
   ]
  },
  {
   "cell_type": "markdown",
   "id": "28e1ac89",
   "metadata": {},
   "source": [
    "<img src=\"fig/01/a-review/26-b-pattern-09-function.png\" width=\"300\" height=\"100\" alt=\"26-b-パターン-09-function\">"
   ]
  },
  {
   "cell_type": "markdown",
   "id": "c51e8979",
   "metadata": {},
   "source": [
    "#### 関数: 前提としてのスキル(入門レベル)\n",
    "\n",
    "  * 「関数」に関して，<span style=\"color: red; \">前提としてのスキルセット</span>と，<span style=\"color: red; \">この授業で更に追加されるスキルセット</span>がある\n",
    "    * 「関数」に関連する概念は奥が深い\n",
    "    * とりあえずは，入門レベルのスキルセットのみが前提\n",
    "      * とうことで，「復習」の範囲は...\n",
    "        * 関数の概念，関数の基本的な定義方法，関数の基本的な利用方法\n",
    "        * 引数の概念(いわゆる位置パラメータの範囲のみ)\n",
    "        * 返戻値(リターン値)の概念"
   ]
  },
  {
   "cell_type": "markdown",
   "id": "3eba0d49",
   "metadata": {},
   "source": [
    "#### [用語] 関数名: 前提としてのスキル(入門レベル) \n",
    "\n",
    "  * <span style=\"color: red; \">関数名</span>\n",
    "    * 英字で始まる英数字が推奨されている\n",
    "      * 英字は小文字のみを使い，複合語の場合，アンダースコア( \\_ )で区切るのが推奨されている\n",
    "        * 文字コードがUTF-8(ユニコード)を前提としているので，漢字なども使えるが，非推奨\n",
    "          * 我々には，わかりやすいけど，漢字圏でない国が多いので奨められない"
   ]
  },
  {
   "cell_type": "markdown",
   "id": "6050402a",
   "metadata": {},
   "source": [
    "#### [用語] 引数: 前提としてのスキル(入門レベル) \n",
    "\n",
    "  * <span style=\"color: red; \">引数</span>\n",
    "    * 「ひきすう」と読む(「いんすう」とは読まない)\n",
    "      * 「ひきすう」という言葉は，最初のうちは聞き慣れていないかもしれませんが，割とすぐに馴染むようです．\n",
    "  * <span style=\"color: red; \">仮引数(formal parameter)</span>\n",
    "    * 関数定義中で，定義本体部で計算を表現するために，定義頭部で導入される変数名\n",
    "      * ここでのformalの意味は...\n",
    "        * 「公式的」，「儀礼的」，「堅苦しい」という意味ではない\n",
    "        * 「数学的」とか，「論理的」という意味でもない\n",
    "        * 単に，関数を定義するための「名目的に」「うわべ上」のものといった感じ\n",
    "    * 単にパラメータ(parameter)というと，仮引数を指すことが一般的\n",
    "      * この授業でも，混同しない範囲で，そのように使います．\n",
    "  * <span style=\"color: red; \">実引数(argument)</span>\n",
    "    * 関数の呼び出し時に，関数へ引き渡される「実際の」値\n",
    "      * 「実」の部分を強調するときには，actual argumentと呼ぶが...\n",
    "        * actualを省くことが多く，単に，アーギュメント(argument)というと，実引数を指すことが一般的\n",
    "        * もっとも，formalとactualの対比で，actual parameterという呼び方もある\n",
    "    * アーギュメントという言葉は，日本語では聞きなれないので，\n",
    "      * 混同しない範囲で，実引数のことを指すとも，パラメータで済ませてしまうこともあります\n",
    "      * 例えば，「関数fに実引数5を引き渡す」ことを，「関数fにパラメータ5を与える」と言うこともよくあります"
   ]
  },
  {
   "cell_type": "markdown",
   "id": "3b5d2c29",
   "metadata": {},
   "source": [
    "#### [用語] 返戻値: 前提としてのスキル(入門レベル) \n",
    "\n",
    "  * <span style=\"color: red; \">返戻値</span>\n",
    "    * 関数の返す値のこと\n",
    "    * 「へんれいち」と読む\n",
    "      * 返戻値という言葉は聞き慣れないかもしれませんね\n",
    "        * 文字で書くときは短くてよいけれど，\n",
    "        * 口で言うときは，リターン・バリューといった方がよく伝わります．"
   ]
  },
  {
   "cell_type": "markdown",
   "id": "3a273191",
   "metadata": {},
   "source": [
    "#### [用語] 関数の副作用: 前提としてのスキル(入門レベル) \n",
    "\n",
    "  * 関数の<span style=\"color: red; \">副作用(side-effect)</span>\n",
    "    * 関数は，計算して，返戻値を返すだけでなく，外部に影響を及ぼすこともあります\n",
    "      * 詳しいことは，復習の一環として，追々取りあげますが，\n",
    "        * <span style=\"color: red; \">グローバル変数(大域変数)</span>\n",
    "          * 関数定義の外側(<span style=\"color: red; \">グローバルスコープ</span>)で初期化された変数\n",
    "          * グローバル変数の値を，global宣言をしたうえで，変更することもあります\n",
    "          * グローバル変数の値は，global宣言がなくても，参照はできます\n",
    "        * <span style=\"color: red; \">ローカル変数(局所変数)</span>\n",
    "          * 関数定義の内側(<span style=\"color: red; \">関数スコープ</span>)で初期化された変数\n",
    "            * 関数定義の外側では使えない\n",
    "            * グローバル変数と同じ名前でローカル変数を初期化した\n",
    "      * 画面表示や，ファイルへの出力もありえます\n",
    "        * これらも関数の副作用に含まれます\n",
    "    * 副作用の方を主体とする場合もあります\n",
    "      * その場合，<span style=\"color: red; \">手続き(procedure)</span>と呼び，定義方法を替えるプログラミング言語もありますが\n",
    "        * Pythonでは，あえて区別していません．\n",
    "      * 一方で，副作用を持たない関数を，<span style=\"color: red; \">純粋(pure)な関数(function)</span>と呼ぶこともあります．"
   ]
  },
  {
   "cell_type": "markdown",
   "id": "f03f7c9b",
   "metadata": {},
   "source": [
    "#### 関数: 前提としてのスキル(入門レベル)\n",
    "\n",
    "  * 「関数」の理解\n",
    "    * 関数という「計算装置」が，「入力として引数を受け取り（引き渡されて），計算作業をして，返戻値を返す」という理解の仕方が一般的かもしれません．\n",
    "      * 一般的なfunctionの意味は，元々，「機能」とか「作用」ですから，特定の機能を備えた装置と考えるのはわかりやすいでしょう\n",
    "      * 特に「副作用」を考慮すると，この理解の仕方はピンときます\n",
    "    * ですが，特に「副作用」を含まず，返戻値のみ期待する，純粋(pure)な関数の場合では，以下のように理解されることもあります\n",
    "      * 実引数へ関数を適用する(function application)と，返戻値に置き換えられる\n",
    "      * 数学でいう「写像(mapping)」という意味では，わかりやすいかもしれませんが，副作用の存在が抜け落ちてしまいますね"
   ]
  },
  {
   "cell_type": "markdown",
   "id": "881ebb96",
   "metadata": {},
   "source": [
    "#### 関数: この授業の中で補われるスキル(入門レベル→初級レベル)\n",
    "\n",
    "  * この授業初級レベルのスキルセットとして，この授業で更に追加される(予定)のもの\n",
    "    * <span style=\"color: red; \">キーワード引数(keyword parameter)，デフォールト値，\n",
    "    * <span style=\"color: red; \">可変長引数\n",
    "      * 辞書やタプルを取り上げた後で，取り上げます\n",
    "    * <span style=\"color: red; \">高階関数(higher-order function)\n",
    "      * 関数を引数として渡したり，返戻値として返したりする関数\n",
    "      * Pythonでは，関数を，一種の「値」(第一級(first-class)オブジェクトと言います)として扱えるので，\n",
    "        こうした関数が定義・利用できます．\n",
    "    * <span style=\"color: red; \">関数閉包(closure)\n",
    "      * 変数のスコープ(有効範囲)について復習し，高階関数について取り上げた後で，取り上げます"
   ]
  },
  {
   "cell_type": "markdown",
   "id": "873d2e72",
   "metadata": {},
   "source": [
    "### Ex_17: 関数 (function)"
   ]
  },
  {
   "cell_type": "markdown",
   "id": "dc147ace",
   "metadata": {},
   "source": [
    "#### 関数定義 (function definition)"
   ]
  },
  {
   "cell_type": "markdown",
   "id": "d3099d53",
   "metadata": {},
   "source": [
    "  * <span style=\"color: red; \">関数定義</span>\n",
    "    * <span style=\"color: red; \">ヘッダ (定義頭部)</span>\n",
    "      * defで始まり，〈関数名〉と，括弧で囲まれカンマ(,)で区切られた〈仮引数の並び〉と，コロン(:)が続く\n",
    "    * <span style=\"color: red; \">ボディ (定義本体)</span>\n",
    "      * 返戻値があるときは，<span style=\"color: red; \">return文</span>で指定する\n",
    "        * returnは，〈文〉であり〈関数〉ではないので，直後の括弧は必要ないが，\n",
    "        * 私はあえてつけることが多い\n",
    "          * 但し，タプル(今回は説明しない)を形成する括弧と混同しないように注意"
   ]
  },
  {
   "cell_type": "markdown",
   "id": "81253370",
   "metadata": {},
   "source": [
    "#### 例題(Example)-17: [関数] 整数の偶奇判定する関数\n",
    "\n",
    "  * 整数の偶奇判定する関数を定義する\n",
    "    * 結果は，文字列で返す"
   ]
  },
  {
   "cell_type": "markdown",
   "id": "584b9487",
   "metadata": {},
   "source": [
    "<img src=\"fig/01/a-review/28-a-ex-17-code-function.png\" width=\"300\" height=\"100\" alt=\"28-a-例題-17-code-function\">"
   ]
  },
  {
   "cell_type": "code",
   "execution_count": 29,
   "id": "1e7c44f9",
   "metadata": {},
   "outputs": [],
   "source": [
    "# ===== [例題-17-a: 関数] 整数の偶奇判定する関数を定義する =====\n",
    "#  * 整数の偶奇判定する関数を定義する\n",
    "#    * 結果は，文字列で返す\n",
    "\n",
    "def judge( x ):\n",
    "    if x % 2 == 0:\n",
    "         return( \"偶数\" )\n",
    "    else:\n",
    "         return( \"奇数\" )"
   ]
  },
  {
   "cell_type": "markdown",
   "id": "d881d72a",
   "metadata": {},
   "source": [
    "#### 関数適用 (function application) / 関数呼び出し (function invocation)"
   ]
  },
  {
   "cell_type": "markdown",
   "id": "cce2c584",
   "metadata": {},
   "source": [
    "<img src=\"fig/01/a-review/28-b-ex-17-code-function.png\" width=\"300\" height=\"100\" alt=\"28-b-例題-17-code-function\">"
   ]
  },
  {
   "cell_type": "code",
   "execution_count": 30,
   "id": "bbe112fb",
   "metadata": {},
   "outputs": [
    {
     "name": "stdout",
     "output_type": "stream",
     "text": [
      "5は奇数\n"
     ]
    }
   ],
   "source": [
    "# ===== [例題-17-b: 関数] 整数の偶奇判定する関数を利用する =====\n",
    "#  * 整数の偶奇判定する関数を利用する\n",
    "#    * 結果は，文字列で返される\n",
    "\n",
    "print( \"5は\" + judge( 5 ))"
   ]
  },
  {
   "cell_type": "code",
   "execution_count": 31,
   "id": "ff9fde9b",
   "metadata": {},
   "outputs": [
    {
     "name": "stdout",
     "output_type": "stream",
     "text": [
      "0は偶数\n",
      "1は奇数\n",
      "2は偶数\n",
      "3は奇数\n",
      "4は偶数\n",
      "5は奇数\n",
      "6は偶数\n"
     ]
    }
   ],
   "source": [
    "# ===== [例題-17-b: 関数] 整数の偶奇判定する関数を利用する =====\n",
    "#  * 整数の偶奇判定する関数を利用する\n",
    "#    * 結果は，文字列で返される\n",
    "\n",
    "for x in range( 7 ):\n",
    "    print( str( x ) + \"は\" + judge( x ) )"
   ]
  },
  {
   "cell_type": "markdown",
   "id": "229f5053",
   "metadata": {},
   "source": [
    "### Ex_18: 関数 (function)"
   ]
  },
  {
   "cell_type": "markdown",
   "id": "743bb1ab",
   "metadata": {},
   "source": [
    "#### 関数定義 (function definition)"
   ]
  },
  {
   "cell_type": "markdown",
   "id": "68bd0ab5",
   "metadata": {},
   "source": [
    "#### 例題(Example)-18: [関数] 偶数か否かを判定する関数を定義する\n",
    "\n",
    "  * 偶数か否かを判定する関数を定義する\n",
    "    * 結果はTrue/Falseで返す"
   ]
  },
  {
   "cell_type": "code",
   "execution_count": 32,
   "id": "d12899c2",
   "metadata": {},
   "outputs": [],
   "source": [
    "# ===== [例題-18-a: 関数] 偶数か否かを判定する関数を定義する =====\n",
    "#  * 偶数か否かを判定する関数を定義する\n",
    "#    * 結果はTrue/Falseで返す\n",
    "\n",
    "def is_even( x ):\n",
    "    return x % 2 == 0"
   ]
  },
  {
   "cell_type": "markdown",
   "id": "9097337a",
   "metadata": {},
   "source": [
    "#### 関数適用 (function application) / 関数呼び出し (function invocation)"
   ]
  },
  {
   "cell_type": "code",
   "execution_count": 33,
   "id": "fe1a8771",
   "metadata": {},
   "outputs": [
    {
     "name": "stdout",
     "output_type": "stream",
     "text": [
      "0は偶数\n",
      "1は奇数\n",
      "2は偶数\n",
      "3は奇数\n",
      "4は偶数\n",
      "5は奇数\n",
      "6は偶数\n"
     ]
    }
   ],
   "source": [
    "# ===== [例題-18-b: 関数] 偶数か否かを判定する関数を利用する =====\n",
    "#  * 偶数か否かを判定する関数を利用する\n",
    "#    * 結果はTrue/Falseで返される\n",
    "\n",
    "\n",
    "for x in range( 7 ):\n",
    "    if is_even( x ):\n",
    "         print( str( x ) + \"は偶数\" )\n",
    "    else:\n",
    "         print( str( x ) + \"は奇数\" )"
   ]
  },
  {
   "cell_type": "markdown",
   "id": "0cdde1b9",
   "metadata": {},
   "source": [
    "#### 練習問題(Practice)-08-a: [関数]  倍数か否かを判定する関数multiply_by( x, m )を定義する\n",
    "\n",
    "  * 引数xが，引数mの倍数か否かを判定する関数multiply_by( x, m )を定義する"
   ]
  },
  {
   "cell_type": "code",
   "execution_count": 34,
   "id": "e264796a",
   "metadata": {},
   "outputs": [
    {
     "name": "stdout",
     "output_type": "stream",
     "text": [
      "15は3の倍数か? True\n",
      "15は5の倍数か? True\n",
      "11は5の倍数か? False\n"
     ]
    }
   ],
   "source": [
    "# ===== [練習問題-08-a: 関数] 倍数か否かを判定する関数を定義する =====\n",
    "#  * 引数xが，引数mの倍数か否かを判定する関数multiply_by( x, m )を定義する\n",
    "\n",
    "def multiply_by( x, m ):\n",
    "    return( x % m == 0 )\n",
    "\n",
    "# ===== [テスト] =====\n",
    "print( f\"15は3の倍数か? { multiply_by( 15, 3 ) }\" )\n",
    "print( f\"15は5の倍数か? { multiply_by( 15, 5 ) }\" )\n",
    "print( f\"11は5の倍数か? { multiply_by( 11, 5 ) }\" )"
   ]
  },
  {
   "cell_type": "markdown",
   "id": "c4a64e36",
   "metadata": {},
   "source": [
    "#### 練習問題(Practice)-08-b: [関数]  倍数か否かを判定する関数multiply_by( x, m )を利用する\n",
    "\n",
    "  * キーボードから，正の整数を読み込み，以下の判定を繰り返して，結果を表示します\n",
    "    * 3の倍数か\n",
    "    * 5の倍数か\n",
    "    * どちらでもないか\n",
    "  * 正の整数の代わりに，exitもしくはquitと入力すると，ループを終了します"
   ]
  },
  {
   "cell_type": "code",
   "execution_count": 35,
   "id": "9ea4c07c",
   "metadata": {},
   "outputs": [
    {
     "name": "stdout",
     "output_type": "stream",
     "text": [
      "入力された正の整数が，3の倍数か5の倍数か，\n",
      "　　　そのどちらでもないか，を判定します\n",
      "  * 正の整数を繰り返し入力してください\n",
      "  * exitもしくはquitが入力されたら，ループを終了する\n",
      "正の整数> 3\n",
      "3は，3の倍数です\n",
      "正の整数> 5\n",
      "5は，5の倍数です\n",
      "正の整数> 7\n",
      "7は，3の倍数でも5の倍数もありません\n",
      "正の整数> exit\n",
      "ループを終了する\n"
     ]
    }
   ],
   "source": [
    "# ===== [練習問題-08-b: 関数] 倍数か否かを判定する関数を利用する =====\n",
    "#  * 引数xが，引数mの倍数か否かを判定する関数multiply_by( x, m )を利用する\n",
    "#   * キーボードから，正の整数を読み込み，以下の判定を繰り返して，結果を表示する\n",
    "#    * 3の倍数か\n",
    "#    * 5の倍数か\n",
    "#    * どちらでもないか\n",
    "#  * 正の整数の代わりに，exitもしくはquitと入力すると，\n",
    "#    * ループを終了する\n",
    "\n",
    "print( \"入力された正の整数が，3の倍数か5の倍数か，\" )\n",
    "print( \"　　　そのどちらでもないか，を判定します\" )\n",
    "print( \"  * 正の整数を繰り返し入力してください\" )\n",
    "print( \"  * exitもしくはquitが入力されたら，ループを終了する\" )\n",
    "\n",
    "while True:\n",
    "    x_str = input( \"正の整数> \" )\n",
    "    if x_str == \"exit\" or x_str == \"quit\":\n",
    "        print( \"ループを終了する\" )\n",
    "        break\n",
    "    if x_str.isnumeric():\n",
    "        x_int = int( x_str )\n",
    "        if multiply_by( x_int, 3 ):\n",
    "            print( f\"{x_int}は，3の倍数です\" )\n",
    "        if multiply_by( x_int, 5 ):\n",
    "            print( f\"{x_int}は，5の倍数です\" )\n",
    "        if not multiply_by( x_int, 3 ) and \\\n",
    "                    not multiply_by( x_int, 5 ):\n",
    "            print( f\"{x_int}は，3の倍数でも5の倍数もありません\" )\n",
    "    else:\n",
    "        print( \"入力エラー: 正の整数ではない\" )"
   ]
  },
  {
   "cell_type": "markdown",
   "id": "b5dd7c5e",
   "metadata": {},
   "source": [
    "#### 練習問題(Practice)-09-a: [関数] fizz/buzz文字列を返す関数を定義する\n",
    "\n",
    "  * 以下の関数を定義する\n",
    "    * 関数fizzbuss_str( x ): \n",
    "      * 与えられた正の整数xに対し，fizz/buzz文字列を返す\n",
    "    * 練習問題-09で定義した関数multiply_by( x, m )を利用してください\n",
    "  * fizz/buzz文字列とは，以下のように定義します\n",
    "    * xが3の倍数であり，かつ5の倍数でないなら，\"fizz\"\n",
    "    * xが5の倍数であり，かつ3の倍数でないなら，\"buzz\"\n",
    "    * xが3の倍数であり，かつ5の倍数であるなら，\"fizzbuzz\"\n",
    "    * いずれでもなければ，その正整数そのもの"
   ]
  },
  {
   "cell_type": "code",
   "execution_count": 36,
   "id": "7274cc08",
   "metadata": {},
   "outputs": [
    {
     "name": "stdout",
     "output_type": "stream",
     "text": [
      "30のfizz/buzz文字列は: fizzbuzz\n",
      "20のfizz/buzz文字列は: buzz\n",
      "18のfizz/buzz文字列は: fizz\n"
     ]
    }
   ],
   "source": [
    "# ===== [練習問題-09-a: 関数定義] 関数を定義する =====\n",
    "#  * fizz/buzz文字列を返す関数を定義する\n",
    "#   * 関数fizzbuss_str( x ): \n",
    "#     * 与えられた正の整数xに対し，fizz/buzz文字列を返す\n",
    "#   * 練習問題-09で定義した関数multiply_by( x, m )を利用してください\n",
    "# * fizz/buzz文字列とは，以下のように定義します\n",
    "#   * xが3の倍数であり，かつ5の倍数でないなら，\"fizz\"\n",
    "#   * xが5の倍数であり，かつ3の倍数でないなら，\"buzz\"\n",
    "#   * xが3の倍数であり，かつ5の倍数であるなら，\"fizzbuzz\"\n",
    "#   * いずれでもなければ，その正整数そのもの\n",
    "\n",
    "def fizzbuss_str( x ):\n",
    "    if multiply_by( x, 3 ) and multiply_by( x, 5 ):\n",
    "        # 3と5の最小公倍数である15の倍数判定でも同等\n",
    "        return( \"fizzbuzz\" )\n",
    "    elif multiply_by( x, 3 ):\n",
    "        return( \"fizz\" )\n",
    "    elif multiply_by( x, 5 ):\n",
    "        return( \"buzz\" )\n",
    "    else:\n",
    "        return( str( x ) )\n",
    "\n",
    "# ===== [テスト] =====\n",
    "print( f\"30のfizz/buzz文字列は: { fizzbuss_str( 30 ) }\" )\n",
    "print( f\"20のfizz/buzz文字列は: { fizzbuss_str( 20 ) }\" )\n",
    "print( f\"18のfizz/buzz文字列は: { fizzbuss_str( 18 ) }\" )"
   ]
  },
  {
   "cell_type": "markdown",
   "id": "b5ad5f20",
   "metadata": {},
   "source": [
    "#### 練習問題(Practice)-09-b: [関数] fizzbuss_str()関数を利用する\n",
    "\n",
    "  * キーボードから，正の整数を読み込み，そのfizz/buzz文字列を表示することを繰り返します\n",
    "    * fizzbuss_str()関数を使って下さい\n",
    "  * 正の整数の代わりに，exitもしくはquitと入力すると，ループを終了します"
   ]
  },
  {
   "cell_type": "code",
   "execution_count": 37,
   "id": "81ea5cfe",
   "metadata": {
    "scrolled": true
   },
   "outputs": [
    {
     "name": "stdout",
     "output_type": "stream",
     "text": [
      "入力された正の整数に対応するfizz/buzz文字列を表示する\n",
      "  * 正の整数を繰り返し入力してください\n",
      "  * exitもしくはquitが入力されたら，ループを終了する\n",
      "正の整数> exit\n",
      "ループを終了する\n"
     ]
    }
   ],
   "source": [
    "# ===== [練習問題-09-b: 関数] 関数を利用する =====\n",
    "#  * 引数xが，引数mの倍数か否かを判定する関数multiply_by( x, m )を利用する\n",
    "#   * キーボードから，正の整数を読み込み，対応するfizz/buzz文字列を表示する\n",
    "#  * 正の整数の代わりに，exitもしくはquitと入力すると，\n",
    "#    * ループを終了する\n",
    "\n",
    "print( \"入力された正の整数に対応するfizz/buzz文字列を表示する\" )\n",
    "print( \"  * 正の整数を繰り返し入力してください\" )\n",
    "print( \"  * exitもしくはquitが入力されたら，ループを終了する\" )\n",
    "\n",
    "while True:\n",
    "    x_str = input( \"正の整数> \" )\n",
    "    if x_str == \"exit\" or x_str == \"quit\":\n",
    "        print( \"ループを終了する\" )\n",
    "        break\n",
    "    if x_str.isnumeric():\n",
    "        x_int = int( x_str )\n",
    "        print( fizzbuss_str( x_int ) )\n",
    "    else:\n",
    "        print( \"入力エラー: 正の整数ではない\" )\n",
    "\n"
   ]
  },
  {
   "cell_type": "markdown",
   "id": "39e1b4db",
   "metadata": {},
   "source": [
    "## [5] まとめ\n",
    "(<a href=\"#目次\"> 目次に戻る </a>)\n",
    "\n",
    "### [5-a] 復習の内容\n",
    "(<a href=\"#目次\"> 目次に戻る </a>)\n",
    "\n",
    "  * ソフトウェア工学-(Software-Engineering)\n",
    "    * 第01回-a: 復習 (Review)\n",
    "\n",
    "      * [0] はじめに\n",
    "      * [1] 復習: 制御構造(Control_Structure)\n",
    "        * [1-a] 条件分岐 (if文)\n",
    "        * [1-b] 反復/ループ (for文)\n",
    "        * [1-c] 反復/ループ (while文)\n",
    "      * [2] 復習: 入出力 (I/O; input/output) → パターン-06\n",
    "        * [2-a] \n",
    "      * [3] 復習: データ構造 (data structure) / コンテナ(container)\n",
    "        * [3-a] リストの要素の列挙 (list_enumeration)→ パターン-07\n",
    "        * [3-b] リストの内包表記 (list_comprehension)→ パターン-08\n",
    "      * [4] 復習: 関数 (function)→ パターン-09/10\n",
    "\n",
    "### [5-b] 例題一覧\n",
    "(<a href=\"#目次\"> 目次に戻る </a>)\n",
    "\n",
    " |例題-ID|テーマ         |概要                                                      |\n",
    " |:------|:--------------|:---------------------------------------------------------|\n",
    " |例題-01|if文           |整数の大小比較                                            |\n",
    " |例題-02|if-else文      |変数xに代入した整数の偶奇判定                             |\n",
    " |例題-03|if-elif-else文 |現在(プログラム実行時)の時刻に適した挨拶を表示する        |\n",
    " |例題-04|for文          |0～4までの偶数                                            |\n",
    " |例題-05|for文/break文  |0～4までループする中で，3が出現したら中断する             |\n",
    " |例題-06|for文          |0～9までの総和を計算し，表示する                          |\n",
    " |例題-07|for文          |0～20までの中で，3の倍数と5の倍数のそれぞれの個数を数える |\n",
    " |例題-08|for文          |文字列中の各文字を，順に一行ずつ表示する                  |\n",
    " |例題-09|while文        |0～4までのループ回数を，順に表示する                      |\n",
    " |例題-10|while文/break文|0～4までのループ回数を，順に表示する                      |\n",
    " |例題-11|input関数      |基本的な使い方                                            |\n",
    " |例題-12|input関数/for文|ループの回数をキーボードから入力する                      |\n",
    " |例題-13|リスト         |リストの要素を順に表示する                                |\n",
    " |例題-14|リスト         |整数リストの要素の総和を求める                            |\n",
    " |例題-15|リスト内包定義 |0～9まで整数の二乗から成るリストを生成する                |\n",
    " |例題-16|リスト内包定義 |0～9までの〈範囲〉の中の奇数だけを列挙したリストを生成する|\n",
    " |例題-17|関数           |整数の偶奇判定する関数                                    |\n",
    " |例題-18|関数           |偶数か否かを判定する関数                                  |\n",
    "\n",
    "\n",
    "### [5-c] 練習問題一覧\n",
    "(<a href=\"#目次\"> 目次に戻る </a>)\n",
    "\n",
    " |練習問題-ID|テーマ           |概要                                                |\n",
    " |:----------|:----------------|:---------------------------------------------------|\n",
    " |練習問題-01|if-else文        |3の倍数判定                                         |\n",
    " |練習問題-02|if-elif-else文   |fizz/buzz判定                                       |\n",
    " |練習問題-02|for文            |0～10までの3の倍数                                  |\n",
    " |練習問題-03|for文            |二重ループ: 「九九の表」を表示する                  |\n",
    " |練習問題-04|for文            |文字列中の数字の総和(左から数字以外の文字が出るまで)|\n",
    " |練習問題-05|while文          |二乗したときに50未満となるような整数列              |\n",
    " |練習問題-06|input関数/while文|必要な個数の正整数データを入力する                  |\n",
    " |練習問題-07|リスト内包表記   |2次元の表: 「九九の表」                             |\n",
    " |練習問題-08|関数             |倍数か否かを判定する関数multiply_by( x, m )         |\n",
    " |練習問題-09|関数             |fizz/buzz文字列を返す関数                           |\n",
    "\n"
   ]
  }
 ],
 "metadata": {
  "kernelspec": {
   "display_name": "Python 3",
   "language": "python",
   "name": "python3"
  },
  "language_info": {
   "codemirror_mode": {
    "name": "ipython",
    "version": 3
   },
   "file_extension": ".py",
   "mimetype": "text/x-python",
   "name": "python",
   "nbconvert_exporter": "python",
   "pygments_lexer": "ipython3",
   "version": "3.9.6"
  },
  "toc": {
   "base_numbering": 1,
   "nav_menu": {},
   "number_sections": false,
   "sideBar": true,
   "skip_h1_title": false,
   "title_cell": "Table of Contents",
   "title_sidebar": "Contents",
   "toc_cell": false,
   "toc_position": {
    "height": "calc(100% - 180px)",
    "left": "10px",
    "top": "150px",
    "width": "165px"
   },
   "toc_section_display": true,
   "toc_window_display": false
  }
 },
 "nbformat": 4,
 "nbformat_minor": 5
}
